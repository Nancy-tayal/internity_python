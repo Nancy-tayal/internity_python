{
 "cells": [
  {
   "cell_type": "markdown",
   "id": "c4a63b25",
   "metadata": {},
   "source": [
    "# Descriptive statistics\n",
    "Descriptive Statistics is that branch of Statistics which analyzes brief descriptive coefficients that summarize a given data set. Those coefficients are called ‘descriptive statistics’.\n",
    "Descriptive statistics hence provides information about the data you want to analyze and describes them in some manners. More specifically, it collects from the target dataset (population) some descriptive measurements (called parameters).\n",
    "Among descriptive statistics, we can isolate two categories: **measures of central tendency** and **measures of dispersion**.\n",
    "Both pandas and numpy provides different functions that can be used for descriptive statistics.\n",
    "\n",
    "**We have applied descriptive statistics for numpy in earlier tasks, here we will be doing using pandas.** "
   ]
  },
  {
   "cell_type": "code",
   "execution_count": 1,
   "id": "dddfe700",
   "metadata": {},
   "outputs": [
    {
     "data": {
      "text/html": [
       "<div>\n",
       "<style scoped>\n",
       "    .dataframe tbody tr th:only-of-type {\n",
       "        vertical-align: middle;\n",
       "    }\n",
       "\n",
       "    .dataframe tbody tr th {\n",
       "        vertical-align: top;\n",
       "    }\n",
       "\n",
       "    .dataframe thead th {\n",
       "        text-align: right;\n",
       "    }\n",
       "</style>\n",
       "<table border=\"1\" class=\"dataframe\">\n",
       "  <thead>\n",
       "    <tr style=\"text-align: right;\">\n",
       "      <th></th>\n",
       "      <th>Rank</th>\n",
       "      <th>Name</th>\n",
       "      <th>Platform</th>\n",
       "      <th>Year</th>\n",
       "      <th>Genre</th>\n",
       "      <th>Publisher</th>\n",
       "      <th>NA_Sales</th>\n",
       "      <th>EU_Sales</th>\n",
       "      <th>JP_Sales</th>\n",
       "      <th>Other_Sales</th>\n",
       "      <th>Global_Sales</th>\n",
       "    </tr>\n",
       "  </thead>\n",
       "  <tbody>\n",
       "    <tr>\n",
       "      <th>0</th>\n",
       "      <td>1</td>\n",
       "      <td>Wii Sports</td>\n",
       "      <td>Wii</td>\n",
       "      <td>2006.0</td>\n",
       "      <td>Sports</td>\n",
       "      <td>Nintendo</td>\n",
       "      <td>41.49</td>\n",
       "      <td>29.02</td>\n",
       "      <td>3.77</td>\n",
       "      <td>8.46</td>\n",
       "      <td>82.74</td>\n",
       "    </tr>\n",
       "    <tr>\n",
       "      <th>1</th>\n",
       "      <td>2</td>\n",
       "      <td>Super Mario Bros.</td>\n",
       "      <td>NES</td>\n",
       "      <td>1985.0</td>\n",
       "      <td>Platform</td>\n",
       "      <td>Nintendo</td>\n",
       "      <td>29.08</td>\n",
       "      <td>3.58</td>\n",
       "      <td>6.81</td>\n",
       "      <td>0.77</td>\n",
       "      <td>40.24</td>\n",
       "    </tr>\n",
       "    <tr>\n",
       "      <th>2</th>\n",
       "      <td>3</td>\n",
       "      <td>Mario Kart Wii</td>\n",
       "      <td>Wii</td>\n",
       "      <td>2008.0</td>\n",
       "      <td>Racing</td>\n",
       "      <td>Nintendo</td>\n",
       "      <td>15.85</td>\n",
       "      <td>12.88</td>\n",
       "      <td>3.79</td>\n",
       "      <td>3.31</td>\n",
       "      <td>35.82</td>\n",
       "    </tr>\n",
       "    <tr>\n",
       "      <th>3</th>\n",
       "      <td>4</td>\n",
       "      <td>Wii Sports Resort</td>\n",
       "      <td>Wii</td>\n",
       "      <td>2009.0</td>\n",
       "      <td>Sports</td>\n",
       "      <td>Nintendo</td>\n",
       "      <td>15.75</td>\n",
       "      <td>11.01</td>\n",
       "      <td>3.28</td>\n",
       "      <td>2.96</td>\n",
       "      <td>33.00</td>\n",
       "    </tr>\n",
       "    <tr>\n",
       "      <th>4</th>\n",
       "      <td>5</td>\n",
       "      <td>Pokemon Red/Pokemon Blue</td>\n",
       "      <td>GB</td>\n",
       "      <td>1996.0</td>\n",
       "      <td>Role-Playing</td>\n",
       "      <td>Nintendo</td>\n",
       "      <td>11.27</td>\n",
       "      <td>8.89</td>\n",
       "      <td>10.22</td>\n",
       "      <td>1.00</td>\n",
       "      <td>31.37</td>\n",
       "    </tr>\n",
       "  </tbody>\n",
       "</table>\n",
       "</div>"
      ],
      "text/plain": [
       "   Rank                      Name Platform    Year         Genre Publisher  \\\n",
       "0     1                Wii Sports      Wii  2006.0        Sports  Nintendo   \n",
       "1     2         Super Mario Bros.      NES  1985.0      Platform  Nintendo   \n",
       "2     3            Mario Kart Wii      Wii  2008.0        Racing  Nintendo   \n",
       "3     4         Wii Sports Resort      Wii  2009.0        Sports  Nintendo   \n",
       "4     5  Pokemon Red/Pokemon Blue       GB  1996.0  Role-Playing  Nintendo   \n",
       "\n",
       "   NA_Sales  EU_Sales  JP_Sales  Other_Sales  Global_Sales  \n",
       "0     41.49     29.02      3.77         8.46         82.74  \n",
       "1     29.08      3.58      6.81         0.77         40.24  \n",
       "2     15.85     12.88      3.79         3.31         35.82  \n",
       "3     15.75     11.01      3.28         2.96         33.00  \n",
       "4     11.27      8.89     10.22         1.00         31.37  "
      ]
     },
     "execution_count": 1,
     "metadata": {},
     "output_type": "execute_result"
    }
   ],
   "source": [
    "import pandas as pd\n",
    "df=pd.read_csv(\"vgsales.csv\")\n",
    "df.head()"
   ]
  },
  {
   "cell_type": "code",
   "execution_count": 5,
   "id": "63597b2a",
   "metadata": {},
   "outputs": [
    {
     "name": "stdout",
     "output_type": "stream",
     "text": [
      "               Rank          Year      NA_Sales      EU_Sales      JP_Sales  \\\n",
      "count  16598.000000  16327.000000  16598.000000  16598.000000  16598.000000   \n",
      "mean    8300.605254   2006.406443      0.264667      0.146652      0.077782   \n",
      "std     4791.853933      5.828981      0.816683      0.505351      0.309291   \n",
      "min        1.000000   1980.000000      0.000000      0.000000      0.000000   \n",
      "25%     4151.250000   2003.000000      0.000000      0.000000      0.000000   \n",
      "50%     8300.500000   2007.000000      0.080000      0.020000      0.000000   \n",
      "75%    12449.750000   2010.000000      0.240000      0.110000      0.040000   \n",
      "max    16600.000000   2020.000000     41.490000     29.020000     10.220000   \n",
      "\n",
      "        Other_Sales  Global_Sales  \n",
      "count  16598.000000  16598.000000  \n",
      "mean       0.048063      0.537441  \n",
      "std        0.188588      1.555028  \n",
      "min        0.000000      0.010000  \n",
      "25%        0.000000      0.060000  \n",
      "50%        0.010000      0.170000  \n",
      "75%        0.040000      0.470000  \n",
      "max       10.570000     82.740000  \n"
     ]
    }
   ],
   "source": [
    "print(df.describe()) #The describe() function computes a summary of statistics pertaining to the DataFrame columns."
   ]
  },
  {
   "cell_type": "code",
   "execution_count": 7,
   "id": "7321f4d9",
   "metadata": {},
   "outputs": [
    {
     "name": "stdout",
     "output_type": "stream",
     "text": [
      "                               Name Platform   Genre        Publisher\n",
      "count                         16598    16598   16598            16540\n",
      "unique                        11493       31      12              578\n",
      "top     Need for Speed: Most Wanted       DS  Action  Electronic Arts\n",
      "freq                             12     2163    3316             1351\n"
     ]
    }
   ],
   "source": [
    "print(df.describe(include=[\"object\"]))  # for computing for all the columns having dtype object"
   ]
  },
  {
   "cell_type": "code",
   "execution_count": 8,
   "id": "bdd30801",
   "metadata": {},
   "outputs": [
    {
     "name": "stdout",
     "output_type": "stream",
     "text": [
      "                Rank                         Name Platform          Year  \\\n",
      "count   16598.000000                        16598    16598  16327.000000   \n",
      "unique           NaN                        11493       31           NaN   \n",
      "top              NaN  Need for Speed: Most Wanted       DS           NaN   \n",
      "freq             NaN                           12     2163           NaN   \n",
      "mean     8300.605254                          NaN      NaN   2006.406443   \n",
      "std      4791.853933                          NaN      NaN      5.828981   \n",
      "min         1.000000                          NaN      NaN   1980.000000   \n",
      "25%      4151.250000                          NaN      NaN   2003.000000   \n",
      "50%      8300.500000                          NaN      NaN   2007.000000   \n",
      "75%     12449.750000                          NaN      NaN   2010.000000   \n",
      "max     16600.000000                          NaN      NaN   2020.000000   \n",
      "\n",
      "         Genre        Publisher      NA_Sales      EU_Sales      JP_Sales  \\\n",
      "count    16598            16540  16598.000000  16598.000000  16598.000000   \n",
      "unique      12              578           NaN           NaN           NaN   \n",
      "top     Action  Electronic Arts           NaN           NaN           NaN   \n",
      "freq      3316             1351           NaN           NaN           NaN   \n",
      "mean       NaN              NaN      0.264667      0.146652      0.077782   \n",
      "std        NaN              NaN      0.816683      0.505351      0.309291   \n",
      "min        NaN              NaN      0.000000      0.000000      0.000000   \n",
      "25%        NaN              NaN      0.000000      0.000000      0.000000   \n",
      "50%        NaN              NaN      0.080000      0.020000      0.000000   \n",
      "75%        NaN              NaN      0.240000      0.110000      0.040000   \n",
      "max        NaN              NaN     41.490000     29.020000     10.220000   \n",
      "\n",
      "         Other_Sales  Global_Sales  \n",
      "count   16598.000000  16598.000000  \n",
      "unique           NaN           NaN  \n",
      "top              NaN           NaN  \n",
      "freq             NaN           NaN  \n",
      "mean        0.048063      0.537441  \n",
      "std         0.188588      1.555028  \n",
      "min         0.000000      0.010000  \n",
      "25%         0.000000      0.060000  \n",
      "50%         0.010000      0.170000  \n",
      "75%         0.040000      0.470000  \n",
      "max        10.570000     82.740000  \n"
     ]
    }
   ],
   "source": [
    "print(df.describe(include=\"all\"))"
   ]
  },
  {
   "cell_type": "markdown",
   "id": "9715d57d",
   "metadata": {},
   "source": [
    "# Frequency"
   ]
  },
  {
   "cell_type": "code",
   "execution_count": 32,
   "id": "341f5517",
   "metadata": {},
   "outputs": [
    {
     "data": {
      "text/html": [
       "<div>\n",
       "<style scoped>\n",
       "    .dataframe tbody tr th:only-of-type {\n",
       "        vertical-align: middle;\n",
       "    }\n",
       "\n",
       "    .dataframe tbody tr th {\n",
       "        vertical-align: top;\n",
       "    }\n",
       "\n",
       "    .dataframe thead th {\n",
       "        text-align: right;\n",
       "    }\n",
       "</style>\n",
       "<table border=\"1\" class=\"dataframe\">\n",
       "  <thead>\n",
       "    <tr style=\"text-align: right;\">\n",
       "      <th>Year</th>\n",
       "      <th>1980.0</th>\n",
       "      <th>1981.0</th>\n",
       "      <th>1982.0</th>\n",
       "      <th>1983.0</th>\n",
       "      <th>1984.0</th>\n",
       "      <th>1985.0</th>\n",
       "      <th>1986.0</th>\n",
       "      <th>1987.0</th>\n",
       "      <th>1988.0</th>\n",
       "      <th>1989.0</th>\n",
       "      <th>...</th>\n",
       "      <th>2009.0</th>\n",
       "      <th>2010.0</th>\n",
       "      <th>2011.0</th>\n",
       "      <th>2012.0</th>\n",
       "      <th>2013.0</th>\n",
       "      <th>2014.0</th>\n",
       "      <th>2015.0</th>\n",
       "      <th>2016.0</th>\n",
       "      <th>2017.0</th>\n",
       "      <th>2020.0</th>\n",
       "    </tr>\n",
       "    <tr>\n",
       "      <th>Genre</th>\n",
       "      <th></th>\n",
       "      <th></th>\n",
       "      <th></th>\n",
       "      <th></th>\n",
       "      <th></th>\n",
       "      <th></th>\n",
       "      <th></th>\n",
       "      <th></th>\n",
       "      <th></th>\n",
       "      <th></th>\n",
       "      <th></th>\n",
       "      <th></th>\n",
       "      <th></th>\n",
       "      <th></th>\n",
       "      <th></th>\n",
       "      <th></th>\n",
       "      <th></th>\n",
       "      <th></th>\n",
       "      <th></th>\n",
       "      <th></th>\n",
       "      <th></th>\n",
       "    </tr>\n",
       "  </thead>\n",
       "  <tbody>\n",
       "    <tr>\n",
       "      <th>Action</th>\n",
       "      <td>1</td>\n",
       "      <td>25</td>\n",
       "      <td>18</td>\n",
       "      <td>7</td>\n",
       "      <td>1</td>\n",
       "      <td>2</td>\n",
       "      <td>6</td>\n",
       "      <td>2</td>\n",
       "      <td>2</td>\n",
       "      <td>2</td>\n",
       "      <td>...</td>\n",
       "      <td>272</td>\n",
       "      <td>226</td>\n",
       "      <td>239</td>\n",
       "      <td>266</td>\n",
       "      <td>148</td>\n",
       "      <td>186</td>\n",
       "      <td>255</td>\n",
       "      <td>119</td>\n",
       "      <td>1</td>\n",
       "      <td>0</td>\n",
       "    </tr>\n",
       "    <tr>\n",
       "      <th>Adventure</th>\n",
       "      <td>0</td>\n",
       "      <td>0</td>\n",
       "      <td>0</td>\n",
       "      <td>1</td>\n",
       "      <td>0</td>\n",
       "      <td>0</td>\n",
       "      <td>0</td>\n",
       "      <td>1</td>\n",
       "      <td>0</td>\n",
       "      <td>0</td>\n",
       "      <td>...</td>\n",
       "      <td>141</td>\n",
       "      <td>154</td>\n",
       "      <td>108</td>\n",
       "      <td>58</td>\n",
       "      <td>60</td>\n",
       "      <td>75</td>\n",
       "      <td>54</td>\n",
       "      <td>34</td>\n",
       "      <td>0</td>\n",
       "      <td>0</td>\n",
       "    </tr>\n",
       "    <tr>\n",
       "      <th>Fighting</th>\n",
       "      <td>1</td>\n",
       "      <td>0</td>\n",
       "      <td>0</td>\n",
       "      <td>0</td>\n",
       "      <td>0</td>\n",
       "      <td>1</td>\n",
       "      <td>0</td>\n",
       "      <td>2</td>\n",
       "      <td>0</td>\n",
       "      <td>0</td>\n",
       "      <td>...</td>\n",
       "      <td>53</td>\n",
       "      <td>40</td>\n",
       "      <td>50</td>\n",
       "      <td>29</td>\n",
       "      <td>20</td>\n",
       "      <td>23</td>\n",
       "      <td>21</td>\n",
       "      <td>14</td>\n",
       "      <td>0</td>\n",
       "      <td>0</td>\n",
       "    </tr>\n",
       "    <tr>\n",
       "      <th>Misc</th>\n",
       "      <td>4</td>\n",
       "      <td>0</td>\n",
       "      <td>1</td>\n",
       "      <td>1</td>\n",
       "      <td>1</td>\n",
       "      <td>0</td>\n",
       "      <td>0</td>\n",
       "      <td>0</td>\n",
       "      <td>0</td>\n",
       "      <td>1</td>\n",
       "      <td>...</td>\n",
       "      <td>207</td>\n",
       "      <td>201</td>\n",
       "      <td>184</td>\n",
       "      <td>38</td>\n",
       "      <td>42</td>\n",
       "      <td>41</td>\n",
       "      <td>39</td>\n",
       "      <td>18</td>\n",
       "      <td>0</td>\n",
       "      <td>0</td>\n",
       "    </tr>\n",
       "    <tr>\n",
       "      <th>Platform</th>\n",
       "      <td>0</td>\n",
       "      <td>3</td>\n",
       "      <td>5</td>\n",
       "      <td>5</td>\n",
       "      <td>1</td>\n",
       "      <td>4</td>\n",
       "      <td>6</td>\n",
       "      <td>2</td>\n",
       "      <td>4</td>\n",
       "      <td>3</td>\n",
       "      <td>...</td>\n",
       "      <td>29</td>\n",
       "      <td>31</td>\n",
       "      <td>37</td>\n",
       "      <td>12</td>\n",
       "      <td>37</td>\n",
       "      <td>10</td>\n",
       "      <td>14</td>\n",
       "      <td>10</td>\n",
       "      <td>0</td>\n",
       "      <td>0</td>\n",
       "    </tr>\n",
       "    <tr>\n",
       "      <th>Puzzle</th>\n",
       "      <td>0</td>\n",
       "      <td>2</td>\n",
       "      <td>3</td>\n",
       "      <td>1</td>\n",
       "      <td>3</td>\n",
       "      <td>4</td>\n",
       "      <td>0</td>\n",
       "      <td>0</td>\n",
       "      <td>1</td>\n",
       "      <td>5</td>\n",
       "      <td>...</td>\n",
       "      <td>79</td>\n",
       "      <td>45</td>\n",
       "      <td>43</td>\n",
       "      <td>11</td>\n",
       "      <td>3</td>\n",
       "      <td>8</td>\n",
       "      <td>6</td>\n",
       "      <td>0</td>\n",
       "      <td>0</td>\n",
       "      <td>0</td>\n",
       "    </tr>\n",
       "    <tr>\n",
       "      <th>Racing</th>\n",
       "      <td>0</td>\n",
       "      <td>1</td>\n",
       "      <td>2</td>\n",
       "      <td>0</td>\n",
       "      <td>3</td>\n",
       "      <td>0</td>\n",
       "      <td>1</td>\n",
       "      <td>0</td>\n",
       "      <td>1</td>\n",
       "      <td>0</td>\n",
       "      <td>...</td>\n",
       "      <td>84</td>\n",
       "      <td>57</td>\n",
       "      <td>65</td>\n",
       "      <td>30</td>\n",
       "      <td>16</td>\n",
       "      <td>27</td>\n",
       "      <td>19</td>\n",
       "      <td>20</td>\n",
       "      <td>0</td>\n",
       "      <td>0</td>\n",
       "    </tr>\n",
       "    <tr>\n",
       "      <th>Role-Playing</th>\n",
       "      <td>0</td>\n",
       "      <td>0</td>\n",
       "      <td>0</td>\n",
       "      <td>0</td>\n",
       "      <td>0</td>\n",
       "      <td>0</td>\n",
       "      <td>1</td>\n",
       "      <td>3</td>\n",
       "      <td>3</td>\n",
       "      <td>2</td>\n",
       "      <td>...</td>\n",
       "      <td>103</td>\n",
       "      <td>103</td>\n",
       "      <td>95</td>\n",
       "      <td>78</td>\n",
       "      <td>71</td>\n",
       "      <td>91</td>\n",
       "      <td>78</td>\n",
       "      <td>40</td>\n",
       "      <td>2</td>\n",
       "      <td>0</td>\n",
       "    </tr>\n",
       "    <tr>\n",
       "      <th>Shooter</th>\n",
       "      <td>2</td>\n",
       "      <td>10</td>\n",
       "      <td>5</td>\n",
       "      <td>1</td>\n",
       "      <td>3</td>\n",
       "      <td>1</td>\n",
       "      <td>4</td>\n",
       "      <td>2</td>\n",
       "      <td>1</td>\n",
       "      <td>1</td>\n",
       "      <td>...</td>\n",
       "      <td>91</td>\n",
       "      <td>81</td>\n",
       "      <td>94</td>\n",
       "      <td>48</td>\n",
       "      <td>59</td>\n",
       "      <td>47</td>\n",
       "      <td>34</td>\n",
       "      <td>32</td>\n",
       "      <td>0</td>\n",
       "      <td>0</td>\n",
       "    </tr>\n",
       "    <tr>\n",
       "      <th>Simulation</th>\n",
       "      <td>0</td>\n",
       "      <td>1</td>\n",
       "      <td>0</td>\n",
       "      <td>0</td>\n",
       "      <td>0</td>\n",
       "      <td>1</td>\n",
       "      <td>0</td>\n",
       "      <td>0</td>\n",
       "      <td>1</td>\n",
       "      <td>0</td>\n",
       "      <td>...</td>\n",
       "      <td>123</td>\n",
       "      <td>82</td>\n",
       "      <td>56</td>\n",
       "      <td>18</td>\n",
       "      <td>18</td>\n",
       "      <td>11</td>\n",
       "      <td>15</td>\n",
       "      <td>9</td>\n",
       "      <td>0</td>\n",
       "      <td>1</td>\n",
       "    </tr>\n",
       "    <tr>\n",
       "      <th>Sports</th>\n",
       "      <td>1</td>\n",
       "      <td>4</td>\n",
       "      <td>2</td>\n",
       "      <td>1</td>\n",
       "      <td>2</td>\n",
       "      <td>1</td>\n",
       "      <td>3</td>\n",
       "      <td>4</td>\n",
       "      <td>2</td>\n",
       "      <td>3</td>\n",
       "      <td>...</td>\n",
       "      <td>184</td>\n",
       "      <td>186</td>\n",
       "      <td>122</td>\n",
       "      <td>54</td>\n",
       "      <td>53</td>\n",
       "      <td>55</td>\n",
       "      <td>62</td>\n",
       "      <td>38</td>\n",
       "      <td>0</td>\n",
       "      <td>0</td>\n",
       "    </tr>\n",
       "    <tr>\n",
       "      <th>Strategy</th>\n",
       "      <td>0</td>\n",
       "      <td>0</td>\n",
       "      <td>0</td>\n",
       "      <td>0</td>\n",
       "      <td>0</td>\n",
       "      <td>0</td>\n",
       "      <td>0</td>\n",
       "      <td>0</td>\n",
       "      <td>0</td>\n",
       "      <td>0</td>\n",
       "      <td>...</td>\n",
       "      <td>65</td>\n",
       "      <td>53</td>\n",
       "      <td>46</td>\n",
       "      <td>15</td>\n",
       "      <td>19</td>\n",
       "      <td>8</td>\n",
       "      <td>17</td>\n",
       "      <td>10</td>\n",
       "      <td>0</td>\n",
       "      <td>0</td>\n",
       "    </tr>\n",
       "  </tbody>\n",
       "</table>\n",
       "<p>12 rows × 39 columns</p>\n",
       "</div>"
      ],
      "text/plain": [
       "Year          1980.0  1981.0  1982.0  1983.0  1984.0  1985.0  1986.0  1987.0  \\\n",
       "Genre                                                                          \n",
       "Action             1      25      18       7       1       2       6       2   \n",
       "Adventure          0       0       0       1       0       0       0       1   \n",
       "Fighting           1       0       0       0       0       1       0       2   \n",
       "Misc               4       0       1       1       1       0       0       0   \n",
       "Platform           0       3       5       5       1       4       6       2   \n",
       "Puzzle             0       2       3       1       3       4       0       0   \n",
       "Racing             0       1       2       0       3       0       1       0   \n",
       "Role-Playing       0       0       0       0       0       0       1       3   \n",
       "Shooter            2      10       5       1       3       1       4       2   \n",
       "Simulation         0       1       0       0       0       1       0       0   \n",
       "Sports             1       4       2       1       2       1       3       4   \n",
       "Strategy           0       0       0       0       0       0       0       0   \n",
       "\n",
       "Year          1988.0  1989.0  ...  2009.0  2010.0  2011.0  2012.0  2013.0  \\\n",
       "Genre                         ...                                           \n",
       "Action             2       2  ...     272     226     239     266     148   \n",
       "Adventure          0       0  ...     141     154     108      58      60   \n",
       "Fighting           0       0  ...      53      40      50      29      20   \n",
       "Misc               0       1  ...     207     201     184      38      42   \n",
       "Platform           4       3  ...      29      31      37      12      37   \n",
       "Puzzle             1       5  ...      79      45      43      11       3   \n",
       "Racing             1       0  ...      84      57      65      30      16   \n",
       "Role-Playing       3       2  ...     103     103      95      78      71   \n",
       "Shooter            1       1  ...      91      81      94      48      59   \n",
       "Simulation         1       0  ...     123      82      56      18      18   \n",
       "Sports             2       3  ...     184     186     122      54      53   \n",
       "Strategy           0       0  ...      65      53      46      15      19   \n",
       "\n",
       "Year          2014.0  2015.0  2016.0  2017.0  2020.0  \n",
       "Genre                                                 \n",
       "Action           186     255     119       1       0  \n",
       "Adventure         75      54      34       0       0  \n",
       "Fighting          23      21      14       0       0  \n",
       "Misc              41      39      18       0       0  \n",
       "Platform          10      14      10       0       0  \n",
       "Puzzle             8       6       0       0       0  \n",
       "Racing            27      19      20       0       0  \n",
       "Role-Playing      91      78      40       2       0  \n",
       "Shooter           47      34      32       0       0  \n",
       "Simulation        11      15       9       0       1  \n",
       "Sports            55      62      38       0       0  \n",
       "Strategy           8      17      10       0       0  \n",
       "\n",
       "[12 rows x 39 columns]"
      ]
     },
     "execution_count": 32,
     "metadata": {},
     "output_type": "execute_result"
    }
   ],
   "source": [
    "#frequency of the genre, yearwise\n",
    "pd.crosstab(index=[df[\"Genre\"]], columns=[df[\"Year\"]])"
   ]
  },
  {
   "cell_type": "markdown",
   "id": "1999f50b",
   "metadata": {},
   "source": [
    "# Measures of Central Tendency: Mean, Median, Mode"
   ]
  },
  {
   "cell_type": "code",
   "execution_count": 13,
   "id": "549dfae6",
   "metadata": {},
   "outputs": [
    {
     "name": "stdout",
     "output_type": "stream",
     "text": [
      "Mean: 0.07778166044101108\n",
      "Mode: 0    0.0\n",
      "dtype: float64\n",
      "Median: 0.0\n"
     ]
    }
   ],
   "source": [
    "jpsales=df[\"JP_Sales\"]\n",
    "print(\"Mean:\", jpsales.mean())\n",
    "print(\"Mode:\", jpsales.mode())\n",
    "print(\"Median:\", jpsales.median())"
   ]
  },
  {
   "cell_type": "markdown",
   "id": "8272e747",
   "metadata": {},
   "source": [
    "# Measures of Variability"
   ]
  },
  {
   "cell_type": "code",
   "execution_count": 22,
   "id": "a150ad5d",
   "metadata": {},
   "outputs": [
    {
     "name": "stdout",
     "output_type": "stream",
     "text": [
      "Max: 10.22\n",
      "Min: 0.0\n",
      "Quantiles:\n",
      " 0.00     0.00\n",
      "0.25     0.00\n",
      "0.50     0.00\n",
      "0.75     0.04\n",
      "1.00    10.22\n",
      "Name: JP_Sales, dtype: float64\n"
     ]
    }
   ],
   "source": [
    "print(\"Max:\", jpsales.max())\n",
    "print(\"Min:\", jpsales.min())\n",
    "print(\"Quantiles:\\n\", jpsales.quantile(q=[0,0.25,0.50,0.75, 1])) # same as np.percentile"
   ]
  },
  {
   "cell_type": "code",
   "execution_count": 23,
   "id": "3d083453",
   "metadata": {},
   "outputs": [
    {
     "name": "stdout",
     "output_type": "stream",
     "text": [
      "Variance: 0.09566070499106545\n",
      "Standard Deviation: 0.30929064808213236\n"
     ]
    }
   ],
   "source": [
    "print(\"Variance:\", jpsales.var())\n",
    "print(\"Standard Deviation:\", jpsales.std())"
   ]
  },
  {
   "cell_type": "code",
   "execution_count": 38,
   "id": "5f18d1a1",
   "metadata": {},
   "outputs": [
    {
     "name": "stdout",
     "output_type": "stream",
     "text": [
      "sum: 1291.0200000000002\n",
      "count: 16598\n",
      "cumsum: 0           3.77\n",
      "1          10.58\n",
      "2          14.37\n",
      "3          17.65\n",
      "4          27.87\n",
      "          ...   \n",
      "16593    1291.02\n",
      "16594    1291.02\n",
      "16595    1291.02\n",
      "16596    1291.02\n",
      "16597    1291.02\n",
      "Name: JP_Sales, Length: 16598, dtype: float64\n",
      "cumprod: 0           3.770000\n",
      "1          25.673700\n",
      "2          97.303323\n",
      "3         319.154899\n",
      "4        3261.763072\n",
      "            ...     \n",
      "16593       0.000000\n",
      "16594       0.000000\n",
      "16595       0.000000\n",
      "16596       0.000000\n",
      "16597       0.000000\n",
      "Name: JP_Sales, Length: 16598, dtype: float64\n",
      "absolute value: 0         3.77\n",
      "1         6.81\n",
      "2         3.79\n",
      "3         3.28\n",
      "4        10.22\n",
      "         ...  \n",
      "16593     0.00\n",
      "16594     0.00\n",
      "16595     0.00\n",
      "16596     0.00\n",
      "16597     0.00\n",
      "Name: JP_Sales, Length: 16598, dtype: float64\n"
     ]
    }
   ],
   "source": [
    "print(\"sum:\", jpsales.sum())\n",
    "print(\"count:\", jpsales.count())\n",
    "print(\"cumsum:\", jpsales.cumsum())\n",
    "print(\"cumprod:\", jpsales.cumprod())\n",
    "print(\"absolute value:\", jpsales.abs())"
   ]
  },
  {
   "cell_type": "markdown",
   "id": "96b592b3",
   "metadata": {},
   "source": [
    "# Skewness is a measure of asymmetry of a distribution.\n",
    "· In a normal distribution, the mean divides the curve symmetrically into two equal parts at the median and the value of skewness is zero.\n",
    "· When a distribution is asymmetrical the tail of the distribution is skewed to one side-to the right or to the left.\n",
    "· When the value of the skewness is negative, the tail of the distribution is longer towards the left hand side of the curve.\n",
    "· When the value of the skewness is positive, the tail of the distribution is longer towards the right hand side of the curve\n",
    "· If the skewness is between -0.5 and 0.5, the data are fairly symmetrical\n",
    "· If the skewness is between -1 and — 0.5 or between 0.5 and 1, the data are moderately skewed\n",
    "· If the skewness is less than -1 or greater than 1, the data are highly skewed"
   ]
  },
  {
   "cell_type": "code",
   "execution_count": 40,
   "id": "7a08193e",
   "metadata": {},
   "outputs": [
    {
     "data": {
      "text/plain": [
       "Rank             0.000066\n",
       "Year            -1.002560\n",
       "NA_Sales        18.799627\n",
       "EU_Sales        18.875535\n",
       "JP_Sales        11.206458\n",
       "Other_Sales     24.233923\n",
       "Global_Sales    17.400645\n",
       "dtype: float64"
      ]
     },
     "execution_count": 40,
     "metadata": {},
     "output_type": "execute_result"
    }
   ],
   "source": [
    "df.skew()"
   ]
  },
  {
   "cell_type": "code",
   "execution_count": 41,
   "id": "37904d86",
   "metadata": {},
   "outputs": [
    {
     "data": {
      "text/plain": [
       "0        2.637761\n",
       "1        2.643435\n",
       "2        2.644446\n",
       "3        2.644656\n",
       "4        2.644841\n",
       "           ...   \n",
       "16593    2.569835\n",
       "16594    2.569770\n",
       "16595    2.569410\n",
       "16596    2.569272\n",
       "16597    2.569797\n",
       "Length: 16598, dtype: float64"
      ]
     },
     "execution_count": 41,
     "metadata": {},
     "output_type": "execute_result"
    }
   ],
   "source": [
    "df.skew(axis=1)"
   ]
  },
  {
   "cell_type": "markdown",
   "id": "6e8a65f5",
   "metadata": {},
   "source": [
    "# Random Numbers\n",
    "Random number does NOT mean a different number every time. Random means something that can not be predicted logically.\n",
    "\n",
    "NumPy offers the random module to work with random numbers.\n",
    "\n",
    "The random module's rand() method returns a random float between 0 and 1.\n",
    "\n",
    "The randint() method takes a size parameter where you can specify the shape of an array.\n",
    "\n",
    "The choice() method allows you to generate a random value based on an array of values.\n",
    "\n",
    "The choice() method takes an array as a parameter and randomly returns one of the values.\n",
    "\n",
    "The choice() method also allows you to return an array of values.\n",
    "\n",
    "Add a size parameter to specify the shape of the array."
   ]
  },
  {
   "cell_type": "code",
   "execution_count": 45,
   "id": "dfcad9d0",
   "metadata": {},
   "outputs": [
    {
     "name": "stdout",
     "output_type": "stream",
     "text": [
      "0.721131854958579\n",
      "[0.43392043 0.8754346  0.24168278 0.84353824 0.27700568]\n",
      "[[0.44591179 0.49031498]\n",
      " [0.8590829  0.40924758]\n",
      " [0.46133745 0.95922555]\n",
      " [0.29153383 0.02672109]\n",
      " [0.16043102 0.14711587]]\n"
     ]
    }
   ],
   "source": [
    "import numpy as np\n",
    "arr=np.random.rand() #generating a random value\n",
    "print(arr)\n",
    "arr=np.random.rand(5) #generating an array of 5 random value\n",
    "print(arr)\n",
    "arr=np.random.rand(5,2) #generating a 2D array of random values\n",
    "print(arr)\n"
   ]
  },
  {
   "cell_type": "code",
   "execution_count": 51,
   "id": "60070c19",
   "metadata": {},
   "outputs": [
    {
     "name": "stdout",
     "output_type": "stream",
     "text": [
      "38\n",
      "59\n",
      "[88 36 34 66]\n",
      "[[10 73 75 46 26]\n",
      " [ 8 33 71 76 90]\n",
      " [30 43 59 78 47]\n",
      " [80 62 90 18  1]]\n"
     ]
    }
   ],
   "source": [
    "arr=np.random.randint(50) #generating a random value\n",
    "print(arr)\n",
    "arr=np.random.randint(50,60) #generating a random value\n",
    "print(arr)\n",
    "arr=np.random.randint(100, size=4) #generating a 1D array of 4 integer random value\n",
    "print(arr)\n",
    "arr=np.random.randint(100, size=(4,5)) #generating a random value\n",
    "print(arr)"
   ]
  },
  {
   "cell_type": "code",
   "execution_count": 58,
   "id": "4e7a35a3",
   "metadata": {},
   "outputs": [
    {
     "name": "stdout",
     "output_type": "stream",
     "text": [
      "4\n",
      "2\n",
      "[3 2 1 3]\n",
      "[[[2 1 2]\n",
      "  [1 1 2]]\n",
      "\n",
      " [[2 3 1]\n",
      "  [4 4 2]]]\n"
     ]
    }
   ],
   "source": [
    "arr=np.random.choice([1,2,3,4]) #generating a random value from the provided list\n",
    "print(arr)\n",
    "arr=np.random.choice(np.array([1,2,3,4])) #generating a random value\n",
    "print(arr)\n",
    "arr=np.random.choice([1,2,3,4], size=4) #generating a 1D array of random value\n",
    "print(arr)\n",
    "arr=np.random.choice([1,2,3,4], size=(2,2,3)) #generating 3D array of random value\n",
    "print(arr)"
   ]
  },
  {
   "cell_type": "markdown",
   "id": "7a07b397",
   "metadata": {},
   "source": [
    "# Random Distribution\n",
    "A random distribution is a set of random numbers that follow a certain probability density function.\n",
    "\n",
    "Probability Density Function: A function that describes a continuous probability. i.e. probability of all values in an array.\n",
    "We can generate random numbers based on defined probabilities using the choice() method of the random module.\n",
    "\n",
    "The choice() method allows us to specify the probability for each value.\n",
    "\n",
    "The probability is set by a number between 0 and 1, where 0 means that the value will never occur and 1 means that the value will always occur.\n",
    "The sum of all probability numbers should be 1."
   ]
  },
  {
   "cell_type": "code",
   "execution_count": 69,
   "id": "d5bb4c54",
   "metadata": {},
   "outputs": [
    {
     "name": "stdout",
     "output_type": "stream",
     "text": [
      "[7 7 7 5 3 5 7 5 5 5 7 7 3 7 5 7 7 7 7 5 5 5 7 5 7 3 5 7 7 5 7 7 3 5 7 7 3\n",
      " 7 7 5 7 3 7 7 7 7 5 3 7 7 7 7 7 5 3 3 5 5 5 7 7 7 5 7 7 5 7 7 3 7 5 7 5 7\n",
      " 7 7 7 5 7 7 5 7 5 5 7 7 7 7 7 7 7 3 7 5 3 7 3 3 7 5]\n"
     ]
    }
   ],
   "source": [
    "arr = np.random.choice([3, 5, 7, 9], p=[0.1, 0.3, 0.6, 0.0], size=(100))\n",
    "print(arr)"
   ]
  },
  {
   "cell_type": "code",
   "execution_count": 71,
   "id": "746358ef",
   "metadata": {},
   "outputs": [
    {
     "name": "stdout",
     "output_type": "stream",
     "text": [
      "[[7 5 5 7 7 7 7 5 7 7]\n",
      " [5 3 5 5 7 7 7 7 3 7]\n",
      " [3 5 7 5 7 7 5 7 7 3]\n",
      " [7 7 7 7 5 7 5 7 7 7]\n",
      " [7 7 5 5 5 7 5 5 3 5]\n",
      " [5 7 5 7 3 7 7 7 3 7]\n",
      " [7 5 5 7 7 7 7 7 5 3]\n",
      " [5 5 7 7 7 7 5 3 7 3]\n",
      " [5 7 7 5 7 5 7 5 5 5]\n",
      " [7 7 7 7 5 5 7 5 5 3]]\n"
     ]
    }
   ],
   "source": [
    "arr = np.random.choice([3, 5, 7, 9], p=[0.1, 0.3, 0.6, 0.0], size=(10,10))\n",
    "print(arr)"
   ]
  },
  {
   "cell_type": "code",
   "execution_count": 80,
   "id": "9395b135",
   "metadata": {},
   "outputs": [
    {
     "name": "stdout",
     "output_type": "stream",
     "text": [
      "[88 36 34 66]\n",
      "[88 36 34 66]\n",
      "[34 66 36 88]\n",
      "[88 66 36 34]\n"
     ]
    }
   ],
   "source": [
    "arr = np.array([88,36,34,66])\n",
    "print(arr)\n",
    "arr1= np.random.permutation(arr) # returns a new rearranged array\n",
    "print(arr) \n",
    "print(arr1)\n",
    "np.random.shuffle(arr) # returns the rearranged original array\n",
    "print(arr)\n"
   ]
  },
  {
   "cell_type": "markdown",
   "id": "91960ca0",
   "metadata": {},
   "source": [
    "# scipy\n",
    "The SciPy library consists of a package for statistical functions. The scipy.stats is the SciPy sub-package. It is mainly used for probabilistic distributions and statistical operations.\n",
    "We have functions for both continuous and discrete variables and can work with different types of distributions like the binomial, uniform, and continuous. \n",
    "\n",
    "**SciPy Stats**\n",
    "\n",
    "It consists of a large number of probability distribution and statistical functions.\n",
    "SciPy Stats consists of the following three classes:\n",
    "\n",
    "1. rv_continuous:\n",
    "It is a generic base class through which we can construct specific distribution sub-classes and instances for continuous random variables.\n",
    "\n",
    "2. rv_discrete:\n",
    "It is a generic base class through which we can construct specific distribution sub-classes and instances for discrete random variables.\n",
    "\n",
    "3. rv_histogram:\n",
    "We can use it to generate specific distribution histograms. It can also be inherited from the class."
   ]
  },
  {
   "cell_type": "code",
   "execution_count": 81,
   "id": "1cf928ba",
   "metadata": {
    "scrolled": false
   },
   "outputs": [
    {
     "name": "stdout",
     "output_type": "stream",
     "text": [
      "Requirement already satisfied: scipy in c:\\users\\nancy\\anaconda3\\lib\\site-packages (1.6.2)\n",
      "Requirement already satisfied: numpy<1.23.0,>=1.16.5 in c:\\users\\nancy\\anaconda3\\lib\\site-packages (from scipy) (1.19.4)\n",
      "Note: you may need to restart the kernel to use updated packages.\n"
     ]
    },
    {
     "name": "stderr",
     "output_type": "stream",
     "text": [
      "WARNING: Ignoring invalid distribution -ffi (c:\\users\\nancy\\anaconda3\\lib\\site-packages)\n",
      "WARNING: Ignoring invalid distribution -ffi (c:\\users\\nancy\\anaconda3\\lib\\site-packages)\n",
      "WARNING: Ignoring invalid distribution -ffi (c:\\users\\nancy\\anaconda3\\lib\\site-packages)\n",
      "WARNING: Ignoring invalid distribution -ffi (c:\\users\\nancy\\anaconda3\\lib\\site-packages)\n",
      "WARNING: Ignoring invalid distribution -ffi (c:\\users\\nancy\\anaconda3\\lib\\site-packages)\n"
     ]
    }
   ],
   "source": [
    "pip install scipy"
   ]
  },
  {
   "cell_type": "code",
   "execution_count": 88,
   "id": "e566b849",
   "metadata": {
    "scrolled": false
   },
   "outputs": [
    {
     "name": "stdout",
     "output_type": "stream",
     "text": [
      "['F_onewayBadInputSizesWarning', 'F_onewayConstantInputWarning', 'PearsonRConstantInputWarning', 'PearsonRNearConstantInputWarning', 'SpearmanRConstantInputWarning', '__all__', '__builtins__', '__cached__', '__doc__', '__file__', '__loader__', '__name__', '__package__', '__path__', '__spec__', '_binned_statistic', '_constants', '_continuous_distns', '_discrete_distns', '_distn_infrastructure', '_distr_params', '_hypotests', '_ksstats', '_multivariate', '_rvs_sampling', '_stats', '_stats_mstats_common', '_tukeylambda_stats', '_wilcoxon_data', 'alpha', 'anderson', 'anderson_ksamp', 'anglit', 'ansari', 'arcsine', 'argus', 'bartlett', 'bayes_mvs', 'bernoulli', 'beta', 'betabinom', 'betaprime', 'binned_statistic', 'binned_statistic_2d', 'binned_statistic_dd', 'binom', 'binom_test', 'boltzmann', 'boxcox', 'boxcox_llf', 'boxcox_normmax', 'boxcox_normplot', 'bradford', 'brunnermunzel', 'burr', 'burr12', 'cauchy', 'chi', 'chi2', 'chi2_contingency', 'chisquare', 'circmean', 'circstd', 'circvar', 'combine_pvalues', 'contingency', 'cosine', 'cramervonmises', 'crystalball', 'cumfreq', 'describe', 'dgamma', 'dirichlet', 'distributions', 'dlaplace', 'dweibull', 'energy_distance', 'entropy', 'epps_singleton_2samp', 'erlang', 'expon', 'exponnorm', 'exponpow', 'exponweib', 'f', 'f_oneway', 'fatiguelife', 'find_repeats', 'fisher_exact', 'fisk', 'fligner', 'foldcauchy', 'foldnorm', 'friedmanchisquare', 'gamma', 'gausshyper', 'gaussian_kde', 'genexpon', 'genextreme', 'gengamma', 'genhalflogistic', 'geninvgauss', 'genlogistic', 'gennorm', 'genpareto', 'geom', 'gilbrat', 'gmean', 'gompertz', 'gstd', 'gumbel_l', 'gumbel_r', 'halfcauchy', 'halfgennorm', 'halflogistic', 'halfnorm', 'hmean', 'hypergeom', 'hypsecant', 'invgamma', 'invgauss', 'invweibull', 'invwishart', 'iqr', 'itemfreq', 'jarque_bera', 'johnsonsb', 'johnsonsu', 'kappa3', 'kappa4', 'kde', 'kendalltau', 'kruskal', 'ks_1samp', 'ks_2samp', 'ksone', 'kstat', 'kstatvar', 'kstest', 'kstwo', 'kstwobign', 'kurtosis', 'kurtosistest', 'laplace', 'laplace_asymmetric', 'levene', 'levy', 'levy_l', 'levy_stable', 'linregress', 'loggamma', 'logistic', 'loglaplace', 'lognorm', 'logser', 'loguniform', 'lomax', 'mannwhitneyu', 'matrix_normal', 'maxwell', 'median_abs_deviation', 'median_absolute_deviation', 'median_test', 'mielke', 'mode', 'moment', 'mood', 'morestats', 'moyal', 'mstats', 'mstats_basic', 'mstats_extras', 'multinomial', 'multiscale_graphcorr', 'multivariate_hypergeom', 'multivariate_normal', 'multivariate_t', 'mvn', 'mvsdist', 'nakagami', 'nbinom', 'ncf', 'nct', 'ncx2', 'nhypergeom', 'norm', 'normaltest', 'norminvgauss', 'obrientransform', 'ortho_group', 'pareto', 'pearson3', 'pearsonr', 'percentileofscore', 'planck', 'pointbiserialr', 'poisson', 'power_divergence', 'powerlaw', 'powerlognorm', 'powernorm', 'ppcc_max', 'ppcc_plot', 'probplot', 'randint', 'random_correlation', 'rankdata', 'ranksums', 'rayleigh', 'rdist', 'recipinvgauss', 'reciprocal', 'relfreq', 'rice', 'rv_continuous', 'rv_discrete', 'rv_histogram', 'rvs_ratio_uniforms', 'scoreatpercentile', 'sem', 'semicircular', 'shapiro', 'siegelslopes', 'sigmaclip', 'skellam', 'skew', 'skewnorm', 'skewtest', 'spearmanr', 'special_ortho_group', 'statlib', 'stats', 't', 'test', 'theilslopes', 'tiecorrect', 'tmax', 'tmean', 'tmin', 'trapezoid', 'trapz', 'triang', 'trim1', 'trim_mean', 'trimboth', 'truncexpon', 'truncnorm', 'tsem', 'tstd', 'ttest_1samp', 'ttest_ind', 'ttest_ind_from_stats', 'ttest_rel', 'tukeylambda', 'tvar', 'uniform', 'unitary_group', 'variation', 'vonmises', 'vonmises_line', 'wald', 'wasserstein_distance', 'weibull_max', 'weibull_min', 'weightedtau', 'wilcoxon', 'wishart', 'wrapcauchy', 'yeojohnson', 'yeojohnson_llf', 'yeojohnson_normmax', 'yeojohnson_normplot', 'yulesimon', 'zipf', 'zmap', 'zscore']\n"
     ]
    }
   ],
   "source": [
    "from scipy import stats\n",
    "print(dir(stats))"
   ]
  },
  {
   "cell_type": "markdown",
   "id": "9e08811d",
   "metadata": {},
   "source": [
    "# Normal Continuous Random Variable\n",
    "A probability distribution in which the random variable X can take any value is continuous random variable. The location (loc) keyword specifies the mean. The scale (scale) keyword specifies the standard deviation."
   ]
  },
  {
   "cell_type": "code",
   "execution_count": 159,
   "id": "395daf64",
   "metadata": {},
   "outputs": [
    {
     "name": "stdout",
     "output_type": "stream",
     "text": [
      "[[ 0.15117233 -1.01532628 -0.0023659   0.35642113  0.35477388]\n",
      " [-1.64916396  0.90182073  1.37507108 -1.00726258  0.73796452]\n",
      " [ 1.41794992 -0.09620968  0.13916213 -0.94774365 -1.68600444]\n",
      " [-0.24263242 -0.45440454 -0.72070504 -0.08559486 -1.01342759]\n",
      " [ 0.47004538 -0.87187118  1.43132679  0.65971185 -0.42761788]\n",
      " [-0.42014326 -0.44977857  1.31806126  0.46759637 -0.04050008]\n",
      " [ 0.30502826  1.46258795  0.77634911 -0.49569974  0.4596488 ]\n",
      " [-0.82441422  0.09447572 -0.9888747   2.20119997  0.73807037]\n",
      " [ 0.549205    1.1841082  -0.96602958  0.21824557 -0.13608156]\n",
      " [ 0.27988433  0.05431035 -0.68556319 -0.45474727 -1.15978782]]\n",
      "0.0716859586743455\n",
      "[[0.56008011 0.15497516 0.49905614 0.6392374  0.6386205 ]\n",
      " [0.04955702 0.81642395 0.9154453  0.1569043  0.76973199]\n",
      " [0.92189731 0.46167702 0.55533898 0.17162999 0.04589747]\n",
      " [0.40414508 0.32476884 0.23554551 0.46589424 0.15542798]\n",
      " [0.6808387  0.19163933 0.92383171 0.74528062 0.33446467]\n",
      " [0.3371904  0.32643506 0.90625843 0.67996337 0.48384722]\n",
      " [0.61982769 0.92820992 0.78122856 0.31005314 0.67711584]\n",
      " [0.20485212 0.53763436 0.16136223 0.98613906 0.76976416]\n",
      " [0.70856761 0.88181488 0.16701469 0.58638111 0.4458784 ]\n",
      " [0.61021687 0.52165605 0.2464943  0.32464554 0.1230676 ]]\n"
     ]
    },
    {
     "data": {
      "image/png": "[encoded data removed]",
      "text/plain": [
       "<Figure size 432x288 with 1 Axes>"
      ]
     },
     "metadata": {
      "needs_background": "light"
     },
     "output_type": "display_data"
    }
   ],
   "source": [
    "from scipy.stats import norm, uniform,binom\n",
    "import matplotlib.pyplot as plt\n",
    "a = norm.rvs(loc = 0, scale = 1, size = (10,5))\n",
    "print(a)\n",
    "plt.plot(a)\n",
    "print(a[1].mean())\n",
    "print(norm.cdf(a)) #The Cumulative Distribution Function (CDF), of a real-valued random variable X, evaluated at x, \n",
    "#is the probability function that X will take a value less than or equal to x."
   ]
  },
  {
   "cell_type": "code",
   "execution_count": 169,
   "id": "645acd17",
   "metadata": {},
   "outputs": [
    {
     "name": "stdout",
     "output_type": "stream",
     "text": [
      "[[2.03734384 2.47898054 2.6090953  2.52030091 2.80942233]\n",
      " [2.4123375  2.53661977 2.60673771 2.14627221 2.29558678]\n",
      " [2.01578656 2.90464538 2.41696536 2.02493903 2.62678934]\n",
      " [2.40298289 2.83446427 2.45400752 2.21656281 2.42123076]\n",
      " [2.68656293 2.95918425 2.92451554 2.20719845 2.84331611]\n",
      " [2.13366828 2.32884149 2.54061026 2.92011803 2.25953126]\n",
      " [2.33832718 2.7845702  2.05111651 2.60787487 2.1144397 ]\n",
      " [2.87677195 2.54732938 2.51634333 2.47482334 2.90733307]\n",
      " [2.89318292 2.5415144  2.30451114 2.77948515 2.91404376]\n",
      " [2.72177549 2.03529187 2.4950743  2.22818611 2.91018251]]\n"
     ]
    },
    {
     "data": {
      "text/plain": [
       "[<matplotlib.lines.Line2D at 0x1a4f3d95850>,\n",
       " <matplotlib.lines.Line2D at 0x1a4f3d95910>,\n",
       " <matplotlib.lines.Line2D at 0x1a4f3d959d0>,\n",
       " <matplotlib.lines.Line2D at 0x1a4f3d95a90>,\n",
       " <matplotlib.lines.Line2D at 0x1a4f3d95b50>]"
      ]
     },
     "execution_count": 169,
     "metadata": {},
     "output_type": "execute_result"
    },
    {
     "data": {
      "image/png": "[encoded data removed]",
      "text/plain": [
       "<Figure size 432x288 with 1 Axes>"
      ]
     },
     "metadata": {
      "needs_background": "light"
     },
     "output_type": "display_data"
    }
   ],
   "source": [
    "x=uniform.rvs(loc=2, scale=1, size=(10,5))\n",
    "print(x)\n",
    "plt.plot(x)"
   ]
  },
  {
   "cell_type": "code",
   "execution_count": 180,
   "id": "36d5af6d",
   "metadata": {},
   "outputs": [
    {
     "name": "stdout",
     "output_type": "stream",
     "text": [
      "[ 9  9  8  8  8  8  7  9  7  8  8 10 10  8  6  8  8  9  9  9  7  8 10  9\n",
      "  9  9  6  8  8  8  8  5  7 10  7  5  8  8  8  9 10  8  9  8  8  8 10  8\n",
      "  8  7  8  9  8  8  9  9  7  8  9  6  6  6  8  7  9 10  9 10  8  9  9  8\n",
      "  7  9  8  8  6  8  6  8  7  8  7  9  7  8  7  7  8  8 10  8  9  7  7 10\n",
      "  9  8  8  7  9  9  5  7  5  9  9  8  7  8  7  7  7  9  9  9  7  8  8  9\n",
      " 10  8  7  9  9  9  8  9  7  8  8  7  7  7  8  9  6  7  8  7  8  8  8  6\n",
      "  8  7  4  8  8  9  8  8  8 10  8  9 10  8  7  9  6  7  7  8  8  9  7 10\n",
      "  7  9  8  6  7  8 10  8  9  6  9 10  8  6  8  7  7  6  8  8 10  7  9  7\n",
      "  7  8 10  9  9 10  5  7  9  7  7  5  8  6 10  6  7  7  7  9  9 10  7  9\n",
      "  7  8  7  6  7  9  8  8  7  9  9  5  7  6 10  7  6  9  9  9  8  7  7  8\n",
      "  9  8  8  7  6  8  8  8  7  8  9  9  7  9  8 10  9  5  8 10  9  8  9 10\n",
      "  8  8  8  9  7 10  8  9  8 10  9 10  7  5  9  9  8  9 10  7  8  7 10  6\n",
      "  8  9  8  9  9  9  7  6  6  8  5  7  8  7  8  9  6  9  9  6  5  8 10  8\n",
      "  6  7 10 10  8 10 10  9  8  9 10  8  9  8  6  7  9  7  9  7  7  8  9  9\n",
      "  9  9  9  8  5  8  7  9  9  4  9  8  5  5  8  6  8  6  9  6 10 10  8  9\n",
      "  7  8  7  8 10  8 10  8  9  9  8  8  7  8  7  8  6  9  7  6  7  7 10  7\n",
      " 10  9  6  8  9  9  9 10  8  8  9  8  9  9  9  7  9  7  9  9  7  9  9  9\n",
      "  7  9  9  8  7  9  7  8  8 10  7  8  7  7  8  8  7  3  9  6  9  8  8  8\n",
      "  7  8  7  9 10 10  7  6  9  8  9  8  9 10  7  6  9  7  8  7  7  7  8  8\n",
      "  7  6  9  8  9 10  8  9  9  9  9  6  9  8  7  8  6  8  7  9  9 10  9  8\n",
      "  8  8  7  8  8  5  6  8  9  8  6  7  6  9  6 10  8  9  9  7  8  7 10 10\n",
      "  8  7  9  7  9  7  7 10 10 10  7  7  9  8  8  5  9  9 10  9  5  9  9  8\n",
      "  6  7  8  9  8  8  8  9  9  9  7 10  7 10  8  9  8  8  8  5  9  6  8  9\n",
      "  7  7  7  8  8  9  9  7 10  6 10  7  8  7  9  9 10 10  9  8  8  7  8  8\n",
      "  6  8  7  6  9  8  8  6 10 10 10  7  9  9  8  7  6  8 10  9  9  9  6  9\n",
      "  8  6  6  7  9  7  8  8 10  8  8  6  9  8  7  8  9  9  7 10  8  8  9  9\n",
      "  9 10  9  8  9 10  6  7  8  7  8  9  6  8  8  7  8  8  7  7 10  9  8  9\n",
      "  9  7  7  8  9  6  8  7  8 10  9 10  8  6  8  6  6  8  9  6  6  7  8  8\n",
      "  7  7 10  7 10  8  9  9  9 10  8  7  8  9  8  8  9  7  9  8  8  7 10  8\n",
      "  9  8  8  7  8  7  7 10  8  8  9  5  8 10 10  6  7  7  6  9  7  8  9  9\n",
      "  8 10  9  7  7  9  9 10  8  9  9  8  8  8  8  9  7  6 10  8  7  8 10  7\n",
      "  7  9  7  7  8 10  9 10  8  7  9 10 10  7 10 10 10  7  9  8  8 10  9  7\n",
      "  7  8  6  8  9  7  8 10  7  7  8 10  6  5  8  8  8  9  8  8  9  9  9  6\n",
      "  8  6  7  8  8  7  7  8  9  8  7  7  9 10  8  9  8  6  7  8  9  7  8  9\n",
      "  8  7  8  4  9  9 10  6  8  7  8  5  9  8  8  9  9  8 10  7  9  9  8  7\n",
      "  9  9  8  9 10  9  6  9  9  8  8  8 10  9  9  9  8  8 10  8  8  9  9  8\n",
      "  9  9  8 10  8 10  9  7  8  9  9  9  9  9  8 10  7  8 10  9  8  9  8  8\n",
      "  8  8  7  6  7  3  7  9  9 10  8  9  9  7  7  9  8  9  8 10 10  8  7 10\n",
      "  7  8  7  8  9  9 10  6  7  9  8  9 10  9  8  9 10 10  7  8  8  8 10 10\n",
      "  7  7  8  8 10  7  8  8  8  9  8  8 10  7  7  9 10  9  8  8 10  7 10  7\n",
      "  9  7  9  9  8 10  6  8  7  9  8 10  5 10  8  8  8  7  9  7  8 10  8  6\n",
      "  9  7  6 10  8  9  9  9  8  7  8  9  8  9  8 10]\n"
     ]
    },
    {
     "data": {
      "text/plain": [
       "[<matplotlib.lines.Line2D at 0x1a4f5a41af0>]"
      ]
     },
     "execution_count": 180,
     "metadata": {},
     "output_type": "execute_result"
    },
    {
     "data": {
      "image/png": "[encoded data removed]",
      "text/plain": [
       "<Figure size 432x288 with 1 Axes>"
      ]
     },
     "metadata": {
      "needs_background": "light"
     },
     "output_type": "display_data"
    }
   ],
   "source": [
    "x=binom.rvs(n=10,p=0.8,size=1000)\n",
    "print(x)\n",
    "plt.plot(x)"
   ]
  }
 ],
 "metadata": {
  "kernelspec": {
   "display_name": "Python 3",
   "language": "python",
   "name": "python3"
  },
  "language_info": {
   "codemirror_mode": {
    "name": "ipython",
    "version": 3
   },
   "file_extension": ".py",
   "mimetype": "text/x-python",
   "name": "python",
   "nbconvert_exporter": "python",
   "pygments_lexer": "ipython3",
   "version": "3.8.8"
  }
 },
 "nbformat": 4,
 "nbformat_minor": 5
}
