{
 "cells": [
  {
   "cell_type": "markdown",
   "id": "5f5fa5e1",
   "metadata": {},
   "source": [
    "# scipy\n",
    "SciPy, is a scientific python open source library to perform Mathematical, Scientific and Engineering Computations.\n",
    "\n",
    "The SciPy library depends on NumPy, which provides convenient and fast N-dimensional array manipulation. The SciPy library is built to work with NumPy arrays and provides many user-friendly and efficient numerical practices such as routines for numerical integration and optimization. Together, they run on all popular operating systems, are quick to install and are free of charge. NumPy and SciPy are easy to use, but powerful enough to depend on by some of the world's leading scientists and engineers.\n",
    "\n",
    "scipy has many sub-packages for different purposes:\n",
    "we have tried the **stats** package earlier for probability distribution and statistics.\n",
    "we will be looking at packages like:\n",
    "\n",
    "**constants** - Physical and mathematical constants\n",
    "\n",
    "**special** - Any special mathematical functions\n",
    "\n",
    "**linalg** - Linear algebra routines\n",
    "\n",
    "**integrate** - Integration routines\n",
    "\n",
    "**interpolate** - Interpolation\n",
    "\n",
    "**stats** - statistics"
   ]
  },
  {
   "cell_type": "markdown",
   "id": "b218a546",
   "metadata": {},
   "source": [
    "# SciPy Constants Package\n",
    "The scipy.constants package provides various constants. We have to import the required constant and use them as per the requirement."
   ]
  },
  {
   "cell_type": "code",
   "execution_count": 13,
   "id": "949002ad",
   "metadata": {
    "scrolled": true
   },
   "outputs": [
    {
     "name": "stdout",
     "output_type": "stream",
     "text": [
      "PI: 3.141592653589793\n",
      "Speed of light in vaccum: 299792458.0\n",
      "Speed of light in vaccum: 299792458.0\n",
      "Plank Constant: 6.62607015e-34\n",
      "Milli: 0.001\n",
      "Kilometers per hour in meters per seconds: 0.2777777777777778\n",
      "0.001\n",
      "['Angstrom star', 'Avogadro constant', 'Bohr magneton', 'Bohr magneton in Hz/T', 'Bohr magneton in K/T', 'Bohr magneton in eV/T', 'Bohr magneton in inverse meter per tesla', 'Bohr radius', 'Boltzmann constant', 'Boltzmann constant in Hz/K', 'Boltzmann constant in eV/K', 'Boltzmann constant in inverse meter per kelvin', 'Compton wavelength', 'Cu x unit', 'Faraday constant', 'Fermi coupling constant', 'Hartree energy', 'Hartree energy in eV', 'Josephson constant', 'Loschmidt constant (273.15 K, 100 kPa)', 'Loschmidt constant (273.15 K, 101.325 kPa)', 'Mo x unit', 'Newtonian constant of gravitation', 'Newtonian constant of gravitation over h-bar c', 'Planck constant', 'Planck constant in eV/Hz', 'Planck length', 'Planck mass', 'Planck mass energy equivalent in GeV', 'Planck temperature', 'Planck time', 'Rydberg constant', 'Rydberg constant times c in Hz', 'Rydberg constant times hc in J', 'Rydberg constant times hc in eV', 'Sackur-Tetrode constant (1 K, 100 kPa)', 'Sackur-Tetrode constant (1 K, 101.325 kPa)', 'Stefan-Boltzmann constant', 'Thomson cross section', 'W to Z mass ratio', 'Wien frequency displacement law constant', 'Wien wavelength displacement law constant', 'alpha particle mass', 'alpha particle mass energy equivalent', 'alpha particle mass energy equivalent in MeV', 'alpha particle mass in u', 'alpha particle molar mass', 'alpha particle relative atomic mass', 'alpha particle-electron mass ratio', 'alpha particle-proton mass ratio', 'atomic mass constant', 'atomic mass constant energy equivalent', 'atomic mass constant energy equivalent in MeV', 'atomic mass unit-electron volt relationship', 'atomic mass unit-hartree relationship', 'atomic mass unit-hertz relationship', 'atomic mass unit-inverse meter relationship', 'atomic mass unit-joule relationship', 'atomic mass unit-kelvin relationship', 'atomic mass unit-kilogram relationship', 'atomic unit of 1st hyperpolarizability', 'atomic unit of 2nd hyperpolarizability', 'atomic unit of action', 'atomic unit of charge', 'atomic unit of charge density', 'atomic unit of current', 'atomic unit of electric dipole mom.', 'atomic unit of electric field', 'atomic unit of electric field gradient', 'atomic unit of electric polarizability', 'atomic unit of electric potential', 'atomic unit of electric quadrupole mom.', 'atomic unit of energy', 'atomic unit of force', 'atomic unit of length', 'atomic unit of mag. dipole mom.', 'atomic unit of mag. flux density', 'atomic unit of magnetizability', 'atomic unit of mass', 'atomic unit of momentum', 'atomic unit of permittivity', 'atomic unit of time', 'atomic unit of velocity', 'classical electron radius', 'conductance quantum', 'conventional value of Josephson constant', 'conventional value of ampere-90', 'conventional value of coulomb-90', 'conventional value of farad-90', 'conventional value of henry-90', 'conventional value of ohm-90', 'conventional value of volt-90', 'conventional value of von Klitzing constant', 'conventional value of watt-90', 'deuteron g factor', 'deuteron mag. mom.', 'deuteron mag. mom. to Bohr magneton ratio', 'deuteron mag. mom. to nuclear magneton ratio', 'deuteron mass', 'deuteron mass energy equivalent', 'deuteron mass energy equivalent in MeV', 'deuteron mass in u', 'deuteron molar mass', 'deuteron relative atomic mass', 'deuteron rms charge radius', 'deuteron-electron mag. mom. ratio', 'deuteron-electron mass ratio', 'deuteron-neutron mag. mom. ratio', 'deuteron-proton mag. mom. ratio', 'deuteron-proton mass ratio', 'electron charge to mass quotient', 'electron g factor', 'electron gyromag. ratio', 'electron gyromag. ratio in MHz/T', 'electron mag. mom.', 'electron mag. mom. anomaly', 'electron mag. mom. to Bohr magneton ratio', 'electron mag. mom. to nuclear magneton ratio', 'electron mass', 'electron mass energy equivalent', 'electron mass energy equivalent in MeV', 'electron mass in u', 'electron molar mass', 'electron relative atomic mass', 'electron to alpha particle mass ratio', 'electron to shielded helion mag. mom. ratio', 'electron to shielded proton mag. mom. ratio', 'electron volt', 'electron volt-atomic mass unit relationship', 'electron volt-hartree relationship', 'electron volt-hertz relationship', 'electron volt-inverse meter relationship', 'electron volt-joule relationship', 'electron volt-kelvin relationship', 'electron volt-kilogram relationship', 'electron-deuteron mag. mom. ratio', 'electron-deuteron mass ratio', 'electron-helion mass ratio', 'electron-muon mag. mom. ratio', 'electron-muon mass ratio', 'electron-neutron mag. mom. ratio', 'electron-neutron mass ratio', 'electron-proton mag. mom. ratio', 'electron-proton mass ratio', 'electron-tau mass ratio', 'electron-triton mass ratio', 'elementary charge', 'elementary charge over h-bar', 'fine-structure constant', 'first radiation constant', 'first radiation constant for spectral radiance', 'hartree-atomic mass unit relationship', 'hartree-electron volt relationship', 'hartree-hertz relationship', 'hartree-inverse meter relationship', 'hartree-joule relationship', 'hartree-kelvin relationship', 'hartree-kilogram relationship', 'helion g factor', 'helion mag. mom.', 'helion mag. mom. to Bohr magneton ratio', 'helion mag. mom. to nuclear magneton ratio', 'helion mass', 'helion mass energy equivalent', 'helion mass energy equivalent in MeV', 'helion mass in u', 'helion molar mass', 'helion relative atomic mass', 'helion shielding shift', 'helion-electron mass ratio', 'helion-proton mass ratio', 'hertz-atomic mass unit relationship', 'hertz-electron volt relationship', 'hertz-hartree relationship', 'hertz-inverse meter relationship', 'hertz-joule relationship', 'hertz-kelvin relationship', 'hertz-kilogram relationship', 'hyperfine transition frequency of Cs-133', 'inverse fine-structure constant', 'inverse meter-atomic mass unit relationship', 'inverse meter-electron volt relationship', 'inverse meter-hartree relationship', 'inverse meter-hertz relationship', 'inverse meter-joule relationship', 'inverse meter-kelvin relationship', 'inverse meter-kilogram relationship', 'inverse of conductance quantum', 'joule-atomic mass unit relationship', 'joule-electron volt relationship', 'joule-hartree relationship', 'joule-hertz relationship', 'joule-inverse meter relationship', 'joule-kelvin relationship', 'joule-kilogram relationship', 'kelvin-atomic mass unit relationship', 'kelvin-electron volt relationship', 'kelvin-hartree relationship', 'kelvin-hertz relationship', 'kelvin-inverse meter relationship', 'kelvin-joule relationship', 'kelvin-kilogram relationship', 'kilogram-atomic mass unit relationship', 'kilogram-electron volt relationship', 'kilogram-hartree relationship', 'kilogram-hertz relationship', 'kilogram-inverse meter relationship', 'kilogram-joule relationship', 'kilogram-kelvin relationship', 'lattice parameter of silicon', 'lattice spacing of ideal Si (220)', 'luminous efficacy', 'mag. flux quantum', 'molar Planck constant', 'molar gas constant', 'molar mass constant', 'molar mass of carbon-12', 'molar volume of ideal gas (273.15 K, 100 kPa)', 'molar volume of ideal gas (273.15 K, 101.325 kPa)', 'molar volume of silicon', 'muon Compton wavelength', 'muon g factor', 'muon mag. mom.', 'muon mag. mom. anomaly', 'muon mag. mom. to Bohr magneton ratio', 'muon mag. mom. to nuclear magneton ratio', 'muon mass', 'muon mass energy equivalent', 'muon mass energy equivalent in MeV', 'muon mass in u', 'muon molar mass', 'muon-electron mass ratio', 'muon-neutron mass ratio', 'muon-proton mag. mom. ratio', 'muon-proton mass ratio', 'muon-tau mass ratio', 'natural unit of action', 'natural unit of action in eV s', 'natural unit of energy', 'natural unit of energy in MeV', 'natural unit of length', 'natural unit of mass', 'natural unit of momentum', 'natural unit of momentum in MeV/c', 'natural unit of time', 'natural unit of velocity', 'neutron Compton wavelength', 'neutron g factor', 'neutron gyromag. ratio', 'neutron gyromag. ratio in MHz/T', 'neutron mag. mom.', 'neutron mag. mom. to Bohr magneton ratio', 'neutron mag. mom. to nuclear magneton ratio', 'neutron mass', 'neutron mass energy equivalent', 'neutron mass energy equivalent in MeV', 'neutron mass in u', 'neutron molar mass', 'neutron relative atomic mass', 'neutron to shielded proton mag. mom. ratio', 'neutron-electron mag. mom. ratio', 'neutron-electron mass ratio', 'neutron-muon mass ratio', 'neutron-proton mag. mom. ratio', 'neutron-proton mass difference', 'neutron-proton mass difference energy equivalent', 'neutron-proton mass difference energy equivalent in MeV', 'neutron-proton mass difference in u', 'neutron-proton mass ratio', 'neutron-tau mass ratio', 'nuclear magneton', 'nuclear magneton in K/T', 'nuclear magneton in MHz/T', 'nuclear magneton in eV/T', 'nuclear magneton in inverse meter per tesla', 'proton Compton wavelength', 'proton charge to mass quotient', 'proton g factor', 'proton gyromag. ratio', 'proton gyromag. ratio in MHz/T', 'proton mag. mom.', 'proton mag. mom. to Bohr magneton ratio', 'proton mag. mom. to nuclear magneton ratio', 'proton mag. shielding correction', 'proton mass', 'proton mass energy equivalent', 'proton mass energy equivalent in MeV', 'proton mass in u', 'proton molar mass', 'proton relative atomic mass', 'proton rms charge radius', 'proton-electron mass ratio', 'proton-muon mass ratio', 'proton-neutron mag. mom. ratio', 'proton-neutron mass ratio', 'proton-tau mass ratio', 'quantum of circulation', 'quantum of circulation times 2', 'reduced Compton wavelength', 'reduced Planck constant', 'reduced Planck constant in eV s', 'reduced Planck constant times c in MeV fm', 'reduced muon Compton wavelength', 'reduced neutron Compton wavelength', 'reduced proton Compton wavelength', 'reduced tau Compton wavelength', 'second radiation constant', 'shielded helion gyromag. ratio', 'shielded helion gyromag. ratio in MHz/T', 'shielded helion mag. mom.', 'shielded helion mag. mom. to Bohr magneton ratio', 'shielded helion mag. mom. to nuclear magneton ratio', 'shielded helion to proton mag. mom. ratio', 'shielded helion to shielded proton mag. mom. ratio', 'shielded proton gyromag. ratio', 'shielded proton gyromag. ratio in MHz/T', 'shielded proton mag. mom.', 'shielded proton mag. mom. to Bohr magneton ratio', 'shielded proton mag. mom. to nuclear magneton ratio', 'shielding difference of d and p in HD', 'shielding difference of t and p in HT', 'speed of light in vacuum', 'standard acceleration of gravity', 'standard atmosphere', 'standard-state pressure', 'tau Compton wavelength', 'tau energy equivalent', 'tau mass', 'tau mass energy equivalent', 'tau mass in u', 'tau molar mass', 'tau-electron mass ratio', 'tau-muon mass ratio', 'tau-neutron mass ratio', 'tau-proton mass ratio', 'triton g factor', 'triton mag. mom.', 'triton mag. mom. to Bohr magneton ratio', 'triton mag. mom. to nuclear magneton ratio', 'triton mass', 'triton mass energy equivalent', 'triton mass energy equivalent in MeV', 'triton mass in u', 'triton molar mass', 'triton relative atomic mass', 'triton to proton mag. mom. ratio', 'triton-electron mass ratio', 'triton-proton mass ratio', 'unified atomic mass unit', 'vacuum electric permittivity', 'vacuum mag. permeability', 'von Klitzing constant', 'weak mixing angle']\n"
     ]
    }
   ],
   "source": [
    "from scipy import constants\n",
    "print(\"PI:\",constants.pi) #Mathematical Constant\n",
    "print(\"Speed of light in vaccum:\",constants.c) # Physical constant\n",
    "print(\"Speed of light in vaccum:\",constants.speed_of_light) # Physical constant\n",
    "print(\"Plank Constant:\",constants.h) # Physical constant\n",
    "print(\"Milli:\",constants.milli) # Unit\n",
    "print(\"Kilometers per hour in meters per seconds:\",constants.kmh)\n",
    "print(constants.gram) #0.001 kg\n",
    "print(constants.find()) # prints a list of all the constants in the package"
   ]
  },
  {
   "cell_type": "markdown",
   "id": "fde34241",
   "metadata": {},
   "source": [
    "# Scipy Special Package\n",
    "The functions available in the special package are universal functions, which follow broadcasting and automatic array looping."
   ]
  },
  {
   "cell_type": "code",
   "execution_count": 37,
   "id": "778f8425",
   "metadata": {},
   "outputs": [
    {
     "name": "stdout",
     "output_type": "stream",
     "text": [
      "Cube Root: [1.         2.         2.28942849 3.63424119 4.         5.\n",
      " 0.         3.         4.64158883]\n",
      "Exponent: [1.e+01 1.e+04 1.e+00 1.e+08]\n",
      "4.048587351573742\n",
      "4.048587351573742\n",
      "1680\n",
      "330.0\n",
      "70.0\n",
      "[        inf  1.77245385  1.         24.        ]\n"
     ]
    }
   ],
   "source": [
    "from scipy import special\n",
    "import numpy as np\n",
    "x= special.cbrt([1,8, 12, 48, 64, 125, 0, 27, 100]) #Cubic Root Function\n",
    "print(\"Cube Root:\",x)\n",
    "x = special.exp10([1,4,0,8]) #Exponential Function\n",
    "print(\"Exponent:\",x)\n",
    "print(special.logsumexp([1,4])) # compute the log of the sum of exponentials of input elements\n",
    "print(np.log(np.exp(1)+np.exp(4)))\n",
    "print(special.perm(8,4, exact=True)) # Permutation\n",
    "print(special.comb(8,4, exact=False, repetition=True)) # Combinatation\n",
    "print(special.comb(8,4, exact=False, repetition=False)) # Combinatation\n",
    "#print(special.gamma([0, 0.5, 1, 5])) # gamma function - generatlzed factorial function"
   ]
  },
  {
   "cell_type": "markdown",
   "id": "3485fca8",
   "metadata": {},
   "source": [
    "# Scipy Linalg Package"
   ]
  },
  {
   "cell_type": "code",
   "execution_count": 51,
   "id": "dcb03d2c",
   "metadata": {},
   "outputs": [
    {
     "name": "stdout",
     "output_type": "stream",
     "text": [
      "Solution: [ 2. -2.  9.]\n",
      "Determinant: -5.0\n",
      "Eigen Values: [ 1.        +0.j -1.44948974+0.j  3.44948974+0.j]\n",
      "Eigen Vector: [[ 0.          0.19399248 -0.89052821]\n",
      " [ 0.         -0.43158379 -0.20014165]\n",
      " [ 1.          0.88096671 -0.40853743]]\n",
      "Inverse of a:\n",
      " [[ 0.2  0.4  0. ]\n",
      " [ 0.2 -0.6  0. ]\n",
      " [-1.   3.   1. ]]\n"
     ]
    }
   ],
   "source": [
    "from scipy import linalg\n",
    "a = np.array([[3, 2, 0], [1, -1, 0], [0, 5, 1]])\n",
    "b = np.array([2, 4, -1])\n",
    "print(\"Solution:\",linalg.solve(a, b)) #Passing the values to the solve function to solve the linear equation\n",
    "print(\"Determinant:\", linalg.det(a)) # Detrerminant of a square matrix\n",
    "l,v=linalg.eig(a) # Eigen Function\n",
    "print(\"Eigen Values:\",l)\n",
    "print(\"Eigen Vector:\",v)\n",
    "print(\"Inverse of a:\\n\", linalg.inv(a))"
   ]
  },
  {
   "cell_type": "markdown",
   "id": "043000ef",
   "metadata": {},
   "source": [
    "**Singular Value Decomposition**\n",
    "The scipy.linalg.svd factorizes the matrix ‘a’ into two unitary matrices ‘U’ and ‘Vh’ and a 1-D array ‘s’ of singular values (real, non-negative) such that a == U*S*Vh, where ‘S’ is a suitably shaped matrix of zeros with the main diagonal ‘s’."
   ]
  },
  {
   "cell_type": "code",
   "execution_count": 43,
   "id": "59082562",
   "metadata": {
    "scrolled": false
   },
   "outputs": [
    {
     "name": "stdout",
     "output_type": "stream",
     "text": [
      "[[-0.45726794 -0.83908712 -0.29468429]\n",
      " [ 0.13158062 -0.39154185  0.91070386]\n",
      " [-0.87954111  0.37766094  0.28944714]]\n",
      "[5.65216285 2.99429014 0.29543467]\n",
      "[[-0.21942454 -0.96313964 -0.15561142]\n",
      " [-0.97145002  0.20093988  0.12612704]\n",
      " [ 0.09020941 -0.17884409  0.97973316]]\n"
     ]
    }
   ],
   "source": [
    "u,s,vh = linalg.svd(a)\n",
    "print(u)\n",
    "print(s)\n",
    "print(vh)"
   ]
  },
  {
   "cell_type": "markdown",
   "id": "506aca48",
   "metadata": {},
   "source": [
    "# Scipy Intergate Package\n",
    "When a function cannot be integrated analytically, or is very difficult to integrate analytically, one generally turns to numerical integration methods. SciPy has a number of routines for performing numerical integration. Most of them are found in the same scipy.integrate library."
   ]
  },
  {
   "cell_type": "markdown",
   "id": "6b65be2a",
   "metadata": {},
   "source": [
    "**quad() function** - calculates single integrals of a function f(x) over a given fixed range from a to b.\n",
    "The quad function returns the two values, in which the first number is the value of integral and the second value is the estimate of the absolute error in the value of integral."
   ]
  },
  {
   "cell_type": "code",
   "execution_count": 45,
   "id": "1298597b",
   "metadata": {},
   "outputs": [
    {
     "name": "stdout",
     "output_type": "stream",
     "text": [
      "(1.5, 1.6653345369377348e-14)\n",
      "(4.670774270471606, 5.1856011379043454e-14)\n"
     ]
    }
   ],
   "source": [
    "from scipy import integrate\n",
    "print(integrate.quad(lambda x : x, 1,2))\n",
    "print(integrate.quad(lambda x : np.exp(x), 1,2))"
   ]
  },
  {
   "cell_type": "markdown",
   "id": "655aa665",
   "metadata": {},
   "source": [
    "**dblquad function** - Double Integrals\n",
    "The parameters of dblquad function is scipy.integrate.dblquad(f, a, b, g, h). Where, ‘f’ is the function to be integrated, ‘a’ and ‘b’ are the lower and upper ranges of the x variable, respectively, while ‘g’ and ‘h’ are the functions that tells the lower and upper limits of y variable.\n",
    "As an example, let us perform the double integral of x*y^2 over x range from 0 to 2 and y ranges from 0 to 1.\n",
    " We define the functions f, g, and h, using the lambda expressions. Note that even if g and h are constants, as they may be in many cases, they must be defined as functions, as we have done here for the lower limit."
   ]
  },
  {
   "cell_type": "code",
   "execution_count": 46,
   "id": "b1b65570",
   "metadata": {},
   "outputs": [
    {
     "name": "stdout",
     "output_type": "stream",
     "text": [
      "(0.6666666666666667, 7.401486830834377e-15)\n"
     ]
    }
   ],
   "source": [
    "from scipy import integrate\n",
    "f = lambda y, x: x*y**2\n",
    "i = integrate.dblquad(f, 0, 2, lambda x: 0, lambda x: 1)\n",
    "print(i)\n"
   ]
  },
  {
   "cell_type": "code",
   "execution_count": 49,
   "id": "a6688cb1",
   "metadata": {},
   "outputs": [
    {
     "name": "stdout",
     "output_type": "stream",
     "text": [
      "(682.6666666666667, 2.9858672534459776e-11)\n"
     ]
    }
   ],
   "source": [
    "f = lambda y, x: x*y**2\n",
    "i = integrate.dblquad(f, 0, 2, lambda x: 0, lambda x: 4*x**2)\n",
    "print(i)\n"
   ]
  },
  {
   "cell_type": "markdown",
   "id": "2d022000",
   "metadata": {},
   "source": [
    "# Scipy Interpolate Package\n",
    "Interpolation is the process of finding a value between two points on a line or a curve. This tool, interpolation, is not only useful in statistics, but is also useful in science, business, or when there is a need to predict values that fall within two existing data points."
   ]
  },
  {
   "cell_type": "markdown",
   "id": "a08dfc37",
   "metadata": {},
   "source": [
    "**1-D Interpolation**\n",
    "\n",
    "The interp1d class in the scipy.interpolate is a convenient method to create a function based on fixed data points, which can be evaluated anywhere within the domain defined by the given data using linear interpolation."
   ]
  },
  {
   "cell_type": "code",
   "execution_count": 65,
   "id": "131b6911",
   "metadata": {},
   "outputs": [
    {
     "name": "stdout",
     "output_type": "stream",
     "text": [
      "[0.         0.36363636 0.72727273 1.09090909 1.45454545 1.81818182\n",
      " 2.18181818 2.54545455 2.90909091 3.27272727 3.63636364 4.        ] [-0.65364362 -0.61966189 -0.51077021 -0.31047698 -0.00715476  0.37976236\n",
      "  0.76715099  0.99239518  0.85886263  0.27994201 -0.52586509 -0.99582185]\n"
     ]
    },
    {
     "data": {
      "image/png": "[encoded data removed]",
      "text/plain": [
       "<Figure size 432x288 with 1 Axes>"
      ]
     },
     "metadata": {
      "needs_background": "light"
     },
     "output_type": "display_data"
    },
    {
     "data": {
      "image/png": "[encoded data removed]",
      "text/plain": [
       "<Figure size 432x288 with 1 Axes>"
      ]
     },
     "metadata": {
      "needs_background": "light"
     },
     "output_type": "display_data"
    }
   ],
   "source": [
    "import numpy as np\n",
    "from scipy import interpolate\n",
    "import matplotlib.pyplot as plt\n",
    "x = np.linspace(0, 4, 12)\n",
    "y = np.cos(x**2/3+4)\n",
    "print (x,y)\n",
    "plt.plot(x,y,\"o\")\n",
    "plt.show()\n",
    "f1 = interpolate.interp1d(x, y,kind = 'linear')\n",
    "f2 = interpolate.interp1d(x, y, kind = 'nearest')\n",
    "xnew = np.linspace(0, 4,30)\n",
    "plt.plot(x, y, 'o', xnew, f1(xnew), '-', xnew, f2(xnew), '--')\n",
    "plt.legend(['data', 'linear', 'cubic','nearest'], loc = 'best')\n",
    "plt.show()"
   ]
  },
  {
   "cell_type": "markdown",
   "id": "95940305",
   "metadata": {},
   "source": [
    "**Univariate Spline**\n",
    "\n",
    "One-dimensional smoothing spline fits a given set of data points. The UnivariateSpline class in scipy.interpolate is a convenient method to create a function, based on fixed data points, class – scipy.interpolate.UnivariateSpline(x, y, w = None, bbox = [None, None], k = 3, s = None, ext = 0, check_finite = False)."
   ]
  },
  {
   "cell_type": "code",
   "execution_count": 72,
   "id": "e6532362",
   "metadata": {},
   "outputs": [
    {
     "data": {
      "image/png": "[encoded data removed]",
      "text/plain": [
       "<Figure size 432x288 with 1 Axes>"
      ]
     },
     "metadata": {
      "needs_background": "light"
     },
     "output_type": "display_data"
    },
    {
     "data": {
      "image/png": "[encoded data removed]",
      "text/plain": [
       "<Figure size 432x288 with 1 Axes>"
      ]
     },
     "metadata": {
      "needs_background": "light"
     },
     "output_type": "display_data"
    },
    {
     "data": {
      "image/png": "[encoded data removed]",
      "text/plain": [
       "<Figure size 432x288 with 1 Axes>"
      ]
     },
     "metadata": {
      "needs_background": "light"
     },
     "output_type": "display_data"
    }
   ],
   "source": [
    "import matplotlib.pyplot as plt\n",
    "from scipy.interpolate import UnivariateSpline\n",
    "x = np.linspace(-3, 3, 50)\n",
    "y = np.exp(-x**2) + 0.1 * np.random.randn(50)\n",
    "plt.plot(x, y, 'ro', ms = 5)\n",
    "plt.show()\n",
    "spl = UnivariateSpline(x, y)\n",
    "xs = np.linspace(-3, 3, 1000)\n",
    "plt.plot(xs, spl(xs), 'g', lw = 3)\n",
    "plt.show()\n",
    "spl.set_smoothing_factor(0.5)\n",
    "plt.plot(xs, spl(xs), 'b', lw = 3)\n",
    "plt.show()"
   ]
  },
  {
   "cell_type": "code",
   "execution_count": null,
   "id": "f19e22de",
   "metadata": {},
   "outputs": [],
   "source": []
  }
 ],
 "metadata": {
  "kernelspec": {
   "display_name": "Python 3",
   "language": "python",
   "name": "python3"
  },
  "language_info": {
   "codemirror_mode": {
    "name": "ipython",
    "version": 3
   },
   "file_extension": ".py",
   "mimetype": "text/x-python",
   "name": "python",
   "nbconvert_exporter": "python",
   "pygments_lexer": "ipython3",
   "version": "3.8.8"
  }
 },
 "nbformat": 4,
 "nbformat_minor": 5
}
