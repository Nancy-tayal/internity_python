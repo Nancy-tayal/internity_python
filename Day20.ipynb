{
 "cells": [
  {
   "attachments": {
    "image.png": {
     "image/png": "[encoded data removed]"
    }
   },
   "cell_type": "markdown",
   "id": "1d299814",
   "metadata": {},
   "source": [
    "# K-mean\n",
    "* K-Means Clustering is an Unsupervised Learning algorithm, which groups the unlabeled dataset into different clusters. Here K defines the number of pre-defined clusters that need to be created in the process, as if K=2, there will be two clusters, and for K=3, there will be three clusters, and so on.\n",
    "\n",
    "* It is an iterative algorithm that divides the unlabeled dataset into k different clusters in such a way that each dataset belongs only one group that has similar properties.\n",
    "* It allows us to cluster the data into different groups and a convenient way to discover the categories of groups in the unlabeled dataset on its own without the need for any training.\n",
    "\n",
    "* It is a centroid-based algorithm, where each cluster is associated with a centroid. The main aim of this algorithm is to minimize the sum of distances between the data point and their corresponding clusters.\n",
    "\n",
    "* The algorithm takes the unlabeled dataset as input, divides the dataset into k-number of clusters, and repeats the process until it does not find the best clusters. The value of k should be predetermined in this algorithm.\n",
    "\n",
    "\n",
    "# Elbow Method\n",
    "* The performance of the K-means clustering algorithm depends upon highly efficient clusters that it forms. But choosing the optimal number of clusters is a big task.\n",
    "* Elbow method: This method uses the concept of WCSS value. WCSS stands for Within Cluster Sum of Squares, which defines the total variations within a cluster. Here, you draw a curve between WSS (within sum of squares) and the number of clusters. It is called elbow method because the curve looks like a human arm and the elbow point gives us the optimum number of clusters. As you can see that after the elbow point, there is a very slow change in the value of WSS, so you should take the elbow point value as the final number of clusters.\n",
    "![image.png](attachment:image.png)\n",
    "\n",
    "\n",
    "# Applications of K-Means Clustering\n",
    "K-Means clustering is used in a variety of examples or business cases in real life, like:\n",
    "\n",
    "**Academic Performance**\n",
    "\n",
    "Based on the scores, students are categorized into grades like A, B, or C. \n",
    "\n",
    "**Diagnostic systems**\n",
    "\n",
    "The medical profession uses k-means in creating smarter medical decision support systems, especially in the treatment of liver ailments.\n",
    "\n",
    "**Search engines**\n",
    "\n",
    "Clustering forms a backbone of search engines. When a search is performed, the search results need to be grouped, and the search engines very often use clustering to do this. \n",
    "\n",
    "**Wireless sensor networks**\n",
    "\n",
    "The clustering algorithm plays the role of finding the cluster heads, which collect all the data in its respective cluster.\n",
    "\n",
    "**kmeans algorithm is very popular and used in a variety of applications such as market segmentation, document clustering, image segmentation and image compression, etc. **"
   ]
  },
  {
   "cell_type": "markdown",
   "id": "ccfc6d83",
   "metadata": {},
   "source": [
    "# K-mean from scratch\n",
    "\n",
    "**Pseudocode**\n",
    "\n",
    "Initialize k means with random values\n",
    "\n",
    "For a given number of iterations:\n",
    "    \n",
    "    Iterate through items:\n",
    "        Find the mean closest to the item\n",
    "        Assign item to mean\n",
    "        Update mean"
   ]
  },
  {
   "cell_type": "code",
   "execution_count": 1,
   "id": "05e8ce12",
   "metadata": {},
   "outputs": [
    {
     "name": "stdout",
     "output_type": "stream",
     "text": [
      "(150, 4)\n",
      "['sepal length (cm)', 'sepal width (cm)', 'petal length (cm)', 'petal width (cm)']\n"
     ]
    }
   ],
   "source": [
    "import pandas as pd\n",
    "import numpy as np\n",
    "import matplotlib.pyplot as plt\n",
    "%matplotlib inline\n",
    "from sklearn.datasets import load_iris\n",
    "Iris=load_iris()\n",
    "print(Iris.data.shape)\n",
    "print(Iris.feature_names)"
   ]
  },
  {
   "cell_type": "code",
   "execution_count": 344,
   "id": "a961ba21",
   "metadata": {},
   "outputs": [
    {
     "data": {
      "text/plain": [
       "(150, 4)"
      ]
     },
     "execution_count": 344,
     "metadata": {},
     "output_type": "execute_result"
    }
   ],
   "source": [
    "df=pd.DataFrame(Iris.data)\n",
    "df.shape"
   ]
  },
  {
   "cell_type": "code",
   "execution_count": 345,
   "id": "ca5c2396",
   "metadata": {},
   "outputs": [
    {
     "data": {
      "text/html": [
       "<div>\n",
       "<style scoped>\n",
       "    .dataframe tbody tr th:only-of-type {\n",
       "        vertical-align: middle;\n",
       "    }\n",
       "\n",
       "    .dataframe tbody tr th {\n",
       "        vertical-align: top;\n",
       "    }\n",
       "\n",
       "    .dataframe thead th {\n",
       "        text-align: right;\n",
       "    }\n",
       "</style>\n",
       "<table border=\"1\" class=\"dataframe\">\n",
       "  <thead>\n",
       "    <tr style=\"text-align: right;\">\n",
       "      <th></th>\n",
       "      <th>0</th>\n",
       "      <th>1</th>\n",
       "      <th>2</th>\n",
       "      <th>3</th>\n",
       "    </tr>\n",
       "  </thead>\n",
       "  <tbody>\n",
       "    <tr>\n",
       "      <th>0</th>\n",
       "      <td>5.1</td>\n",
       "      <td>3.5</td>\n",
       "      <td>1.4</td>\n",
       "      <td>0.2</td>\n",
       "    </tr>\n",
       "    <tr>\n",
       "      <th>1</th>\n",
       "      <td>4.9</td>\n",
       "      <td>3.0</td>\n",
       "      <td>1.4</td>\n",
       "      <td>0.2</td>\n",
       "    </tr>\n",
       "    <tr>\n",
       "      <th>2</th>\n",
       "      <td>4.7</td>\n",
       "      <td>3.2</td>\n",
       "      <td>1.3</td>\n",
       "      <td>0.2</td>\n",
       "    </tr>\n",
       "    <tr>\n",
       "      <th>3</th>\n",
       "      <td>4.6</td>\n",
       "      <td>3.1</td>\n",
       "      <td>1.5</td>\n",
       "      <td>0.2</td>\n",
       "    </tr>\n",
       "    <tr>\n",
       "      <th>4</th>\n",
       "      <td>5.0</td>\n",
       "      <td>3.6</td>\n",
       "      <td>1.4</td>\n",
       "      <td>0.2</td>\n",
       "    </tr>\n",
       "  </tbody>\n",
       "</table>\n",
       "</div>"
      ],
      "text/plain": [
       "     0    1    2    3\n",
       "0  5.1  3.5  1.4  0.2\n",
       "1  4.9  3.0  1.4  0.2\n",
       "2  4.7  3.2  1.3  0.2\n",
       "3  4.6  3.1  1.5  0.2\n",
       "4  5.0  3.6  1.4  0.2"
      ]
     },
     "execution_count": 345,
     "metadata": {},
     "output_type": "execute_result"
    }
   ],
   "source": [
    "df.head()"
   ]
  },
  {
   "cell_type": "code",
   "execution_count": 346,
   "id": "dbcbbf65",
   "metadata": {
    "scrolled": true
   },
   "outputs": [
    {
     "name": "stdout",
     "output_type": "stream",
     "text": [
      "<class 'pandas.core.frame.DataFrame'>\n",
      "RangeIndex: 150 entries, 0 to 149\n",
      "Data columns (total 4 columns):\n",
      " #   Column  Non-Null Count  Dtype  \n",
      "---  ------  --------------  -----  \n",
      " 0   0       150 non-null    float64\n",
      " 1   1       150 non-null    float64\n",
      " 2   2       150 non-null    float64\n",
      " 3   3       150 non-null    float64\n",
      "dtypes: float64(4)\n",
      "memory usage: 4.8 KB\n"
     ]
    }
   ],
   "source": [
    "df.info()"
   ]
  },
  {
   "cell_type": "code",
   "execution_count": 347,
   "id": "c00eb287",
   "metadata": {},
   "outputs": [
    {
     "data": {
      "text/plain": [
       "(150, 2)"
      ]
     },
     "execution_count": 347,
     "metadata": {},
     "output_type": "execute_result"
    }
   ],
   "source": [
    "df=df[[2,3]].rename(columns={2:'x',3:'y'})\n",
    "df.shape"
   ]
  },
  {
   "cell_type": "code",
   "execution_count": 353,
   "id": "acd287c7",
   "metadata": {},
   "outputs": [
    {
     "name": "stdout",
     "output_type": "stream",
     "text": [
      "{0: [3, 1], 1: [5, 0]}\n"
     ]
    }
   ],
   "source": [
    "# centroid (x,y)\n",
    "k=2\n",
    "centroids ={\n",
    "    i:[np.random.randint(df['x'].min(), df['x'].max()),np.random.randint(df['y'].min(), df['y'].max())] for i in range(k)\n",
    "}\n",
    "print(centroids)"
   ]
  },
  {
   "cell_type": "code",
   "execution_count": 354,
   "id": "f0da8e77",
   "metadata": {},
   "outputs": [
    {
     "data": {
      "image/png": "[encoded data removed]",
      "text/plain": [
       "<Figure size 432x288 with 1 Axes>"
      ]
     },
     "metadata": {
      "needs_background": "light"
     },
     "output_type": "display_data"
    }
   ],
   "source": [
    "fig = plt.Figure(figsize=(5,5))\n",
    "plt.scatter(df['x'],df['y'])\n",
    "colmap={0:'r', 1:'g'}\n",
    "for i in centroids.keys():\n",
    "    plt.scatter(centroids[i][0],centroids[i][1], c=colmap[i])"
   ]
  },
  {
   "cell_type": "code",
   "execution_count": 355,
   "id": "42f2a5e5",
   "metadata": {},
   "outputs": [
    {
     "name": "stdout",
     "output_type": "stream",
     "text": [
      "       x    y    dist_0    dist_1  closest color\n",
      "0    1.4  0.2  1.788854  3.605551        0     r\n",
      "1    1.4  0.2  1.788854  3.605551        0     r\n",
      "2    1.3  0.2  1.878829  3.705401        0     r\n",
      "3    1.5  0.2  1.700000  3.505710        0     r\n",
      "4    1.4  0.2  1.788854  3.605551        0     r\n",
      "..   ...  ...       ...       ...      ...   ...\n",
      "145  5.2  2.3  2.555386  2.308679        1     g\n",
      "146  5.0  1.9  2.193171  1.900000        1     g\n",
      "147  5.2  2.0  2.416609  2.009975        1     g\n",
      "148  5.4  2.3  2.729469  2.334524        1     g\n",
      "149  5.1  1.8  2.247221  1.802776        1     g\n",
      "\n",
      "[150 rows x 6 columns]\n"
     ]
    }
   ],
   "source": [
    "def cluster(df, centroids):\n",
    "    for i in centroids.keys():\n",
    "        df[\"dist_{}\".format(i)] = (np.sqrt((df['x']-centroids[i][0])**2 +(df['y']-centroids[i][1])**2)) \n",
    "    dist_cols = ['dist_{}'.format(i) for i in centroids.keys()]\n",
    "    df['closest'] = df.loc[:,dist_cols].idxmin(axis=1)\n",
    "    df['closest'] = df['closest'].map(lambda x : int(x.lstrip('dist_')))\n",
    "    df['color'] =  df['closest'].map(lambda x : colmap[x])\n",
    "    print(df)\n",
    "    return df\n",
    "df =cluster(df, centroids)"
   ]
  },
  {
   "cell_type": "code",
   "execution_count": 356,
   "id": "e04ce707",
   "metadata": {},
   "outputs": [
    {
     "data": {
      "image/png": "[encoded data removed]",
      "text/plain": [
       "<Figure size 432x288 with 1 Axes>"
      ]
     },
     "metadata": {
      "needs_background": "light"
     },
     "output_type": "display_data"
    }
   ],
   "source": [
    "fig = plt.Figure(figsize=(5,5))\n",
    "plt.scatter(df['x'],df['y'], color=df['color'], alpha=0.4)\n",
    "for i in centroids.keys():\n",
    "    plt.scatter(*centroids[i], c=colmap[i])\n"
   ]
  },
  {
   "cell_type": "code",
   "execution_count": 357,
   "id": "399040ca",
   "metadata": {},
   "outputs": [
    {
     "name": "stdout",
     "output_type": "stream",
     "text": [
      "{0: [2.505952380952381, 0.6630952380952381], 1: [5.351515151515153, 1.8818181818181814]}\n"
     ]
    },
    {
     "data": {
      "image/png": "[encoded data removed]",
      "text/plain": [
       "<Figure size 432x288 with 1 Axes>"
      ]
     },
     "metadata": {
      "needs_background": "light"
     },
     "output_type": "display_data"
    }
   ],
   "source": [
    "#updating the centroids\n",
    "import copy\n",
    "def update(centroids):\n",
    "    for i in centroids.keys():\n",
    "        centroids[i][0] = np.mean(df[df['closest']==i]['x'])\n",
    "        centroids[i][1] = np.mean(df[df['closest']==i]['y'])\n",
    "    return centroids\n",
    "centroids = update(centroids)\n",
    "print(centroids)\n",
    "fig = plt.Figure(figsize=(5,5))\n",
    "ax = plt.axes()\n",
    "plt.scatter(df['x'],df['y'], color=df['color'], alpha = 0.5)\n",
    "for i in centroids.keys():\n",
    "    plt.scatter(*centroids[i], color='k')"
   ]
  },
  {
   "cell_type": "code",
   "execution_count": 358,
   "id": "d0ddb400",
   "metadata": {},
   "outputs": [
    {
     "name": "stdout",
     "output_type": "stream",
     "text": [
      "       x    y    dist_0    dist_1  closest color\n",
      "0    1.4  0.2  1.198995  4.294530        0     r\n",
      "1    1.4  0.2  1.198995  4.294530        0     r\n",
      "2    1.3  0.2  1.291812  4.386717        0     r\n",
      "3    1.5  0.2  1.107428  4.202699        0     r\n",
      "4    1.4  0.2  1.198995  4.294530        0     r\n",
      "..   ...  ...       ...       ...      ...   ...\n",
      "145  5.2  2.3  3.152356  0.444784        1     g\n",
      "146  5.0  1.9  2.783919  0.351985        1     g\n",
      "147  5.2  2.0  3.007525  0.192156        1     g\n",
      "148  5.4  2.3  3.324901  0.420983        1     g\n",
      "149  5.1  1.8  2.832249  0.264488        1     g\n",
      "\n",
      "[150 rows x 6 columns]\n",
      "{0: [2.505952380952381, 0.6630952380952381], 1: [5.351515151515153, 1.8818181818181814]}\n"
     ]
    },
    {
     "data": {
      "image/png": "[encoded data removed]",
      "text/plain": [
       "<Figure size 432x288 with 1 Axes>"
      ]
     },
     "metadata": {
      "needs_background": "light"
     },
     "output_type": "display_data"
    }
   ],
   "source": [
    "df = cluster(df, centroids)\n",
    "print(centroids)\n",
    "fig = plt.Figure(figsize=(5,5))\n",
    "plt.scatter(df['x'],df['y'], color=df['color'], alpha = 0.5)\n",
    "for i in centroids.keys():\n",
    "    plt.scatter(*centroids[i], c=colmap[i])\n"
   ]
  },
  {
   "cell_type": "code",
   "execution_count": 359,
   "id": "7b6da49a",
   "metadata": {},
   "outputs": [
    {
     "name": "stdout",
     "output_type": "stream",
     "text": [
      "       x    y    dist_0    dist_1  closest color\n",
      "0    1.4  0.2  0.486709  3.982766        0     r\n",
      "1    1.4  0.2  0.486709  3.982766        0     r\n",
      "2    1.3  0.2  0.579712  4.075062        0     r\n",
      "3    1.5  0.2  0.397121  3.890850        0     r\n",
      "4    1.4  0.2  0.486709  3.982766        0     r\n",
      "..   ...  ...       ...       ...      ...   ...\n",
      "145  5.2  2.3  3.857290  0.564946        1     g\n",
      "146  5.0  1.9  3.494727  0.164406        1     g\n",
      "147  5.2  2.0  3.718298  0.281960        1     g\n",
      "148  5.4  2.3  4.032410  0.641676        1     g\n",
      "149  5.1  1.8  3.544425  0.058600        1     g\n",
      "\n",
      "[150 rows x 6 columns]\n",
      "       x    y    dist_0    dist_1  closest color\n",
      "0    1.4  0.2  0.184182  3.860368        0     r\n",
      "1    1.4  0.2  0.184182  3.860368        0     r\n",
      "2    1.3  0.2  0.275678  3.952745        0     r\n",
      "3    1.5  0.2  0.108847  3.768380        0     r\n",
      "4    1.4  0.2  0.184182  3.860368        0     r\n",
      "..   ...  ...       ...       ...      ...   ...\n",
      "145  5.2  2.3  4.157485  0.650508        1     g\n",
      "146  5.0  1.9  3.797536  0.208247        1     g\n",
      "147  5.2  2.0  4.021072  0.388184        1     g\n",
      "148  5.4  2.3  4.333651  0.748101        1     g\n",
      "149  5.1  1.8  3.848028  0.175470        1     g\n",
      "\n",
      "[150 rows x 6 columns]\n",
      "       x    y    dist_0    dist_1  closest color\n",
      "0    1.4  0.2  0.111489  3.824028        0     r\n",
      "1    1.4  0.2  0.111489  3.824028        0     r\n",
      "2    1.3  0.2  0.202142  3.916407        0     r\n",
      "3    1.5  0.2  0.063233  3.732042        0     r\n",
      "4    1.4  0.2  0.111489  3.824028        0     r\n",
      "..   ...  ...       ...       ...      ...   ...\n",
      "145  5.2  2.3  4.230663  0.676487        1     g\n",
      "146  5.0  1.9  3.871120  0.230631        1     g\n",
      "147  5.2  2.0  4.094650  0.420388        1     g\n",
      "148  5.4  2.3  4.407000  0.779445        1     g\n",
      "149  5.1  1.8  3.921694  0.210959        1     g\n",
      "\n",
      "[150 rows x 6 columns]\n"
     ]
    },
    {
     "data": {
      "image/png": "[encoded data removed]",
      "text/plain": [
       "<Figure size 432x288 with 1 Axes>"
      ]
     },
     "metadata": {
      "needs_background": "light"
     },
     "output_type": "display_data"
    }
   ],
   "source": [
    "while True:\n",
    "    closest_centroids = df['closest'].copy(deep=True)\n",
    "    centroids = update(centroids)\n",
    "    df = cluster(df, centroids)\n",
    "    if closest_centroids.equals(df['closest']):\n",
    "        break\n",
    "\n",
    "fig = plt.Figure(figsize=(5,5))\n",
    "ax = plt.axes()\n",
    "plt.scatter(df['x'],df['y'], color=df['color'], alpha = 0.5)\n",
    "for i in centroids.keys():\n",
    "    plt.scatter(*centroids[i], c=colmap[i])\n"
   ]
  },
  {
   "cell_type": "code",
   "execution_count": 360,
   "id": "951b8aa8",
   "metadata": {},
   "outputs": [
    {
     "name": "stdout",
     "output_type": "stream",
     "text": [
      "{0: [1.4921568627450983, 0.2627450980392156], 1: [4.925252525252526, 1.6818181818181823]}\n"
     ]
    }
   ],
   "source": [
    "print(centroids)"
   ]
  },
  {
   "cell_type": "markdown",
   "id": "dd523c5e",
   "metadata": {},
   "source": [
    "# Using sklearn "
   ]
  },
  {
   "cell_type": "code",
   "execution_count": 92,
   "id": "bd7be6a0",
   "metadata": {},
   "outputs": [
    {
     "data": {
      "text/html": [
       "<div>\n",
       "<style scoped>\n",
       "    .dataframe tbody tr th:only-of-type {\n",
       "        vertical-align: middle;\n",
       "    }\n",
       "\n",
       "    .dataframe tbody tr th {\n",
       "        vertical-align: top;\n",
       "    }\n",
       "\n",
       "    .dataframe thead th {\n",
       "        text-align: right;\n",
       "    }\n",
       "</style>\n",
       "<table border=\"1\" class=\"dataframe\">\n",
       "  <thead>\n",
       "    <tr style=\"text-align: right;\">\n",
       "      <th></th>\n",
       "      <th>0</th>\n",
       "      <th>1</th>\n",
       "      <th>2</th>\n",
       "      <th>3</th>\n",
       "    </tr>\n",
       "  </thead>\n",
       "  <tbody>\n",
       "    <tr>\n",
       "      <th>0</th>\n",
       "      <td>5.1</td>\n",
       "      <td>3.5</td>\n",
       "      <td>0.067797</td>\n",
       "      <td>0.041667</td>\n",
       "    </tr>\n",
       "    <tr>\n",
       "      <th>1</th>\n",
       "      <td>4.9</td>\n",
       "      <td>3.0</td>\n",
       "      <td>0.067797</td>\n",
       "      <td>0.041667</td>\n",
       "    </tr>\n",
       "    <tr>\n",
       "      <th>2</th>\n",
       "      <td>4.7</td>\n",
       "      <td>3.2</td>\n",
       "      <td>0.050847</td>\n",
       "      <td>0.041667</td>\n",
       "    </tr>\n",
       "    <tr>\n",
       "      <th>3</th>\n",
       "      <td>4.6</td>\n",
       "      <td>3.1</td>\n",
       "      <td>0.084746</td>\n",
       "      <td>0.041667</td>\n",
       "    </tr>\n",
       "    <tr>\n",
       "      <th>4</th>\n",
       "      <td>5.0</td>\n",
       "      <td>3.6</td>\n",
       "      <td>0.067797</td>\n",
       "      <td>0.041667</td>\n",
       "    </tr>\n",
       "  </tbody>\n",
       "</table>\n",
       "</div>"
      ],
      "text/plain": [
       "     0    1         2         3\n",
       "0  5.1  3.5  0.067797  0.041667\n",
       "1  4.9  3.0  0.067797  0.041667\n",
       "2  4.7  3.2  0.050847  0.041667\n",
       "3  4.6  3.1  0.084746  0.041667\n",
       "4  5.0  3.6  0.067797  0.041667"
      ]
     },
     "execution_count": 92,
     "metadata": {},
     "output_type": "execute_result"
    }
   ],
   "source": [
    "from sklearn.mixture import GaussianMixture\n",
    "from sklearn.cluster import KMeans\n",
    "from sklearn.preprocessing import MinMaxScaler\n",
    "df = pd.DataFrame(Iris.data)\n",
    "df.head()"
   ]
  },
  {
   "cell_type": "code",
   "execution_count": 93,
   "id": "20e7a458",
   "metadata": {},
   "outputs": [
    {
     "data": {
      "text/plain": [
       "<matplotlib.collections.PathCollection at 0x1d30b79d7f0>"
      ]
     },
     "execution_count": 93,
     "metadata": {},
     "output_type": "execute_result"
    },
    {
     "data": {
      "image/png": "[encoded data removed]",
      "text/plain": [
       "<Figure size 432x288 with 1 Axes>"
      ]
     },
     "metadata": {
      "needs_background": "light"
     },
     "output_type": "display_data"
    }
   ],
   "source": [
    "plt.scatter(df[2], df[3])"
   ]
  },
  {
   "cell_type": "code",
   "execution_count": 94,
   "id": "117499f9",
   "metadata": {},
   "outputs": [
    {
     "name": "stdout",
     "output_type": "stream",
     "text": [
      "KMeans(n_clusters=3)\n"
     ]
    }
   ],
   "source": [
    "km = KMeans(n_clusters=3)\n",
    "print(km)"
   ]
  },
  {
   "cell_type": "code",
   "execution_count": 95,
   "id": "717dddff",
   "metadata": {},
   "outputs": [
    {
     "data": {
      "text/plain": [
       "array([1, 1, 1, 1, 1, 1, 1, 1, 1, 1, 1, 1, 1, 1, 1, 1, 1, 1, 1, 1, 1, 1,\n",
       "       1, 1, 1, 1, 1, 1, 1, 1, 1, 1, 1, 1, 1, 1, 1, 1, 1, 1, 1, 1, 1, 1,\n",
       "       1, 1, 1, 1, 1, 1, 0, 0, 0, 0, 0, 0, 0, 0, 0, 0, 0, 0, 0, 0, 0, 0,\n",
       "       0, 0, 0, 0, 2, 0, 0, 0, 0, 0, 0, 2, 0, 0, 0, 0, 0, 0, 0, 0, 0, 0,\n",
       "       0, 0, 0, 0, 0, 0, 0, 0, 0, 0, 0, 0, 2, 2, 2, 2, 2, 2, 0, 2, 2, 2,\n",
       "       2, 2, 2, 2, 2, 2, 2, 2, 2, 0, 2, 2, 2, 2, 2, 2, 2, 2, 2, 2, 2, 2,\n",
       "       2, 0, 0, 2, 2, 2, 2, 2, 2, 2, 2, 2, 2, 2, 2, 2, 2, 2])"
      ]
     },
     "execution_count": 95,
     "metadata": {},
     "output_type": "execute_result"
    }
   ],
   "source": [
    "y_predicted=km.fit_predict(df[[2,3]])\n",
    "y_predicted"
   ]
  },
  {
   "cell_type": "code",
   "execution_count": 96,
   "id": "be974c4c",
   "metadata": {},
   "outputs": [
    {
     "data": {
      "text/html": [
       "<div>\n",
       "<style scoped>\n",
       "    .dataframe tbody tr th:only-of-type {\n",
       "        vertical-align: middle;\n",
       "    }\n",
       "\n",
       "    .dataframe tbody tr th {\n",
       "        vertical-align: top;\n",
       "    }\n",
       "\n",
       "    .dataframe thead th {\n",
       "        text-align: right;\n",
       "    }\n",
       "</style>\n",
       "<table border=\"1\" class=\"dataframe\">\n",
       "  <thead>\n",
       "    <tr style=\"text-align: right;\">\n",
       "      <th></th>\n",
       "      <th>0</th>\n",
       "      <th>1</th>\n",
       "      <th>2</th>\n",
       "      <th>3</th>\n",
       "      <th>cluster</th>\n",
       "    </tr>\n",
       "  </thead>\n",
       "  <tbody>\n",
       "    <tr>\n",
       "      <th>0</th>\n",
       "      <td>5.1</td>\n",
       "      <td>3.5</td>\n",
       "      <td>0.067797</td>\n",
       "      <td>0.041667</td>\n",
       "      <td>1</td>\n",
       "    </tr>\n",
       "    <tr>\n",
       "      <th>1</th>\n",
       "      <td>4.9</td>\n",
       "      <td>3.0</td>\n",
       "      <td>0.067797</td>\n",
       "      <td>0.041667</td>\n",
       "      <td>1</td>\n",
       "    </tr>\n",
       "    <tr>\n",
       "      <th>2</th>\n",
       "      <td>4.7</td>\n",
       "      <td>3.2</td>\n",
       "      <td>0.050847</td>\n",
       "      <td>0.041667</td>\n",
       "      <td>1</td>\n",
       "    </tr>\n",
       "    <tr>\n",
       "      <th>3</th>\n",
       "      <td>4.6</td>\n",
       "      <td>3.1</td>\n",
       "      <td>0.084746</td>\n",
       "      <td>0.041667</td>\n",
       "      <td>1</td>\n",
       "    </tr>\n",
       "    <tr>\n",
       "      <th>4</th>\n",
       "      <td>5.0</td>\n",
       "      <td>3.6</td>\n",
       "      <td>0.067797</td>\n",
       "      <td>0.041667</td>\n",
       "      <td>1</td>\n",
       "    </tr>\n",
       "  </tbody>\n",
       "</table>\n",
       "</div>"
      ],
      "text/plain": [
       "     0    1         2         3  cluster\n",
       "0  5.1  3.5  0.067797  0.041667        1\n",
       "1  4.9  3.0  0.067797  0.041667        1\n",
       "2  4.7  3.2  0.050847  0.041667        1\n",
       "3  4.6  3.1  0.084746  0.041667        1\n",
       "4  5.0  3.6  0.067797  0.041667        1"
      ]
     },
     "execution_count": 96,
     "metadata": {},
     "output_type": "execute_result"
    }
   ],
   "source": [
    "df['cluster']=y_predicted\n",
    "df.head()"
   ]
  },
  {
   "cell_type": "code",
   "execution_count": 97,
   "id": "e2b25577",
   "metadata": {},
   "outputs": [
    {
     "data": {
      "text/plain": [
       "array([[0.55867014, 0.51041667],\n",
       "       [0.07830508, 0.06083333],\n",
       "       [0.7740113 , 0.81510417]])"
      ]
     },
     "execution_count": 97,
     "metadata": {},
     "output_type": "execute_result"
    }
   ],
   "source": [
    "km.cluster_centers_"
   ]
  },
  {
   "cell_type": "code",
   "execution_count": 98,
   "id": "b4c45713",
   "metadata": {},
   "outputs": [
    {
     "data": {
      "text/plain": [
       "<matplotlib.legend.Legend at 0x1d30b81ddf0>"
      ]
     },
     "execution_count": 98,
     "metadata": {},
     "output_type": "execute_result"
    },
    {
     "data": {
      "image/png": "[encoded data removed]",
      "text/plain": [
       "<Figure size 432x288 with 1 Axes>"
      ]
     },
     "metadata": {
      "needs_background": "light"
     },
     "output_type": "display_data"
    }
   ],
   "source": [
    "df1=df[df['cluster']==0]\n",
    "df2=df[df['cluster']==1]\n",
    "df3=df[df['cluster']==2]\n",
    "plt.scatter(df1[2],df1[3], c='g')\n",
    "plt.scatter(df2[2],df2[3], c='r')\n",
    "plt.scatter(df3[2],df3[3], c='b')\n",
    "plt.scatter(km.cluster_centers_[:,0],km.cluster_centers_[:,1],color='k', marker='s',label='centroid')\n",
    "plt.legend()"
   ]
  },
  {
   "cell_type": "code",
   "execution_count": 99,
   "id": "27b73365",
   "metadata": {},
   "outputs": [
    {
     "name": "stdout",
     "output_type": "stream",
     "text": [
      "1.701874688192097\n"
     ]
    }
   ],
   "source": [
    "print(km.inertia_)"
   ]
  },
  {
   "cell_type": "code",
   "execution_count": 100,
   "id": "19499cbf",
   "metadata": {},
   "outputs": [
    {
     "name": "stderr",
     "output_type": "stream",
     "text": [
      "C:\\Users\\nancy\\anaconda3\\lib\\site-packages\\sklearn\\cluster\\_kmeans.py:881: UserWarning: KMeans is known to have a memory leak on Windows with MKL, when there are less chunks than available threads. You can avoid it by setting the environment variable OMP_NUM_THREADS=1.\n",
      "  warnings.warn(\n"
     ]
    }
   ],
   "source": [
    "k= range(1,10)\n",
    "sse=[]\n",
    "for i in k:\n",
    "    km = KMeans(n_clusters=i)\n",
    "    km.fit(df[[2,3]])\n",
    "    sse.append(km.inertia_)"
   ]
  },
  {
   "cell_type": "code",
   "execution_count": 101,
   "id": "9e40ec43",
   "metadata": {},
   "outputs": [
    {
     "data": {
      "text/plain": [
       "[28.36835321972719,\n",
       " 5.176463590044366,\n",
       " 1.701874688192097,\n",
       " 1.1588792731667128,\n",
       " 0.8538617353912238,\n",
       " 0.6801035704886194,\n",
       " 0.5663174952054537,\n",
       " 0.48580845539143697,\n",
       " 0.4366030461145208]"
      ]
     },
     "execution_count": 101,
     "metadata": {},
     "output_type": "execute_result"
    }
   ],
   "source": [
    "sse"
   ]
  },
  {
   "cell_type": "code",
   "execution_count": 102,
   "id": "acf991f0",
   "metadata": {},
   "outputs": [
    {
     "data": {
      "text/plain": [
       "[<matplotlib.lines.Line2D at 0x1d30c82eaf0>]"
      ]
     },
     "execution_count": 102,
     "metadata": {},
     "output_type": "execute_result"
    },
    {
     "data": {
      "image/png": "[encoded data removed]",
      "text/plain": [
       "<Figure size 432x288 with 1 Axes>"
      ]
     },
     "metadata": {
      "needs_background": "light"
     },
     "output_type": "display_data"
    }
   ],
   "source": [
    "plt.plot(k,sse) # 3 is the optimal no. of clusters"
   ]
  },
  {
   "cell_type": "code",
   "execution_count": 103,
   "id": "a8c2747d",
   "metadata": {
    "scrolled": false
   },
   "outputs": [
    {
     "data": {
      "text/html": [
       "<div>\n",
       "<style scoped>\n",
       "    .dataframe tbody tr th:only-of-type {\n",
       "        vertical-align: middle;\n",
       "    }\n",
       "\n",
       "    .dataframe tbody tr th {\n",
       "        vertical-align: top;\n",
       "    }\n",
       "\n",
       "    .dataframe thead th {\n",
       "        text-align: right;\n",
       "    }\n",
       "</style>\n",
       "<table border=\"1\" class=\"dataframe\">\n",
       "  <thead>\n",
       "    <tr style=\"text-align: right;\">\n",
       "      <th></th>\n",
       "      <th>0</th>\n",
       "      <th>1</th>\n",
       "      <th>2</th>\n",
       "      <th>3</th>\n",
       "    </tr>\n",
       "  </thead>\n",
       "  <tbody>\n",
       "    <tr>\n",
       "      <th>0</th>\n",
       "      <td>5.1</td>\n",
       "      <td>3.5</td>\n",
       "      <td>0.067797</td>\n",
       "      <td>0.041667</td>\n",
       "    </tr>\n",
       "    <tr>\n",
       "      <th>1</th>\n",
       "      <td>4.9</td>\n",
       "      <td>3.0</td>\n",
       "      <td>0.067797</td>\n",
       "      <td>0.041667</td>\n",
       "    </tr>\n",
       "    <tr>\n",
       "      <th>2</th>\n",
       "      <td>4.7</td>\n",
       "      <td>3.2</td>\n",
       "      <td>0.050847</td>\n",
       "      <td>0.041667</td>\n",
       "    </tr>\n",
       "    <tr>\n",
       "      <th>3</th>\n",
       "      <td>4.6</td>\n",
       "      <td>3.1</td>\n",
       "      <td>0.084746</td>\n",
       "      <td>0.041667</td>\n",
       "    </tr>\n",
       "    <tr>\n",
       "      <th>4</th>\n",
       "      <td>5.0</td>\n",
       "      <td>3.6</td>\n",
       "      <td>0.067797</td>\n",
       "      <td>0.041667</td>\n",
       "    </tr>\n",
       "    <tr>\n",
       "      <th>...</th>\n",
       "      <td>...</td>\n",
       "      <td>...</td>\n",
       "      <td>...</td>\n",
       "      <td>...</td>\n",
       "    </tr>\n",
       "    <tr>\n",
       "      <th>145</th>\n",
       "      <td>6.7</td>\n",
       "      <td>3.0</td>\n",
       "      <td>0.711864</td>\n",
       "      <td>0.916667</td>\n",
       "    </tr>\n",
       "    <tr>\n",
       "      <th>146</th>\n",
       "      <td>6.3</td>\n",
       "      <td>2.5</td>\n",
       "      <td>0.677966</td>\n",
       "      <td>0.750000</td>\n",
       "    </tr>\n",
       "    <tr>\n",
       "      <th>147</th>\n",
       "      <td>6.5</td>\n",
       "      <td>3.0</td>\n",
       "      <td>0.711864</td>\n",
       "      <td>0.791667</td>\n",
       "    </tr>\n",
       "    <tr>\n",
       "      <th>148</th>\n",
       "      <td>6.2</td>\n",
       "      <td>3.4</td>\n",
       "      <td>0.745763</td>\n",
       "      <td>0.916667</td>\n",
       "    </tr>\n",
       "    <tr>\n",
       "      <th>149</th>\n",
       "      <td>5.9</td>\n",
       "      <td>3.0</td>\n",
       "      <td>0.694915</td>\n",
       "      <td>0.708333</td>\n",
       "    </tr>\n",
       "  </tbody>\n",
       "</table>\n",
       "<p>150 rows × 4 columns</p>\n",
       "</div>"
      ],
      "text/plain": [
       "       0    1         2         3\n",
       "0    5.1  3.5  0.067797  0.041667\n",
       "1    4.9  3.0  0.067797  0.041667\n",
       "2    4.7  3.2  0.050847  0.041667\n",
       "3    4.6  3.1  0.084746  0.041667\n",
       "4    5.0  3.6  0.067797  0.041667\n",
       "..   ...  ...       ...       ...\n",
       "145  6.7  3.0  0.711864  0.916667\n",
       "146  6.3  2.5  0.677966  0.750000\n",
       "147  6.5  3.0  0.711864  0.791667\n",
       "148  6.2  3.4  0.745763  0.916667\n",
       "149  5.9  3.0  0.694915  0.708333\n",
       "\n",
       "[150 rows x 4 columns]"
      ]
     },
     "execution_count": 103,
     "metadata": {},
     "output_type": "execute_result"
    }
   ],
   "source": [
    "# scaling the data\n",
    "df= pd.DataFrame(Iris.data)\n",
    "scaler = MinMaxScaler()\n",
    "scaler.fit(df[[3]])\n",
    "df[3] = scaler.transform(np.array(df[3]).reshape(-1,1))\n",
    "scaler.fit(df[[2]])\n",
    "df[2] = scaler.transform(np.array(df[2]).reshape(-1,1))\n",
    "df"
   ]
  },
  {
   "cell_type": "code",
   "execution_count": 104,
   "id": "12b2d789",
   "metadata": {
    "scrolled": true
   },
   "outputs": [
    {
     "name": "stderr",
     "output_type": "stream",
     "text": [
      "C:\\Users\\nancy\\anaconda3\\lib\\site-packages\\sklearn\\cluster\\_kmeans.py:881: UserWarning: KMeans is known to have a memory leak on Windows with MKL, when there are less chunks than available threads. You can avoid it by setting the environment variable OMP_NUM_THREADS=1.\n",
      "  warnings.warn(\n"
     ]
    }
   ],
   "source": [
    "k= range(1,10)\n",
    "sse=[]\n",
    "for i in k:\n",
    "    km = KMeans(n_clusters=i)\n",
    "    km.fit(df[[2,3]])\n",
    "    sse.append(km.inertia_)"
   ]
  },
  {
   "cell_type": "code",
   "execution_count": 105,
   "id": "c754dfab",
   "metadata": {
    "scrolled": true
   },
   "outputs": [
    {
     "data": {
      "text/plain": [
       "[28.36835321972719,\n",
       " 5.176463590044366,\n",
       " 1.701874688192097,\n",
       " 1.1588792731667128,\n",
       " 0.8535683225340074,\n",
       " 0.6806539059219305,\n",
       " 0.5651273455703979,\n",
       " 0.4880262556573532,\n",
       " 0.42544198335229505]"
      ]
     },
     "execution_count": 105,
     "metadata": {},
     "output_type": "execute_result"
    }
   ],
   "source": [
    "sse"
   ]
  },
  {
   "cell_type": "code",
   "execution_count": 106,
   "id": "9edec533",
   "metadata": {},
   "outputs": [
    {
     "data": {
      "text/plain": [
       "[<matplotlib.lines.Line2D at 0x1d30c874490>]"
      ]
     },
     "execution_count": 106,
     "metadata": {},
     "output_type": "execute_result"
    },
    {
     "data": {
      "image/png": "[encoded data removed]",
      "text/plain": [
       "<Figure size 432x288 with 1 Axes>"
      ]
     },
     "metadata": {
      "needs_background": "light"
     },
     "output_type": "display_data"
    }
   ],
   "source": [
    "plt.plot(k,sse)"
   ]
  },
  {
   "cell_type": "code",
   "execution_count": null,
   "id": "a492da8c",
   "metadata": {},
   "outputs": [],
   "source": []
  }
 ],
 "metadata": {
  "kernelspec": {
   "display_name": "Python 3",
   "language": "python",
   "name": "python3"
  },
  "language_info": {
   "codemirror_mode": {
    "name": "ipython",
    "version": 3
   },
   "file_extension": ".py",
   "mimetype": "text/x-python",
   "name": "python",
   "nbconvert_exporter": "python",
   "pygments_lexer": "ipython3",
   "version": "3.8.8"
  }
 },
 "nbformat": 4,
 "nbformat_minor": 5
}
